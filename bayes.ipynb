{
 "cells": [
  {
   "cell_type": "code",
   "execution_count": 60,
   "metadata": {
    "collapsed": true
   },
   "outputs": [],
   "source": [
    "import os\n",
    "import re\n",
    "import math\n",
    "from nltk.tokenize import sent_tokenize, word_tokenize\n",
    "\n",
    "all_words = set()\n",
    "\n",
    "def create_corp(path, flag_test = False):\n",
    "    all_texts = ''\n",
    "    all_filenames = os.listdir(path)\n",
    "    files_to_read = all_filenames[math.floor(len(all_filenames) * 0.1):] if flag_test else all_filenames[:math.floor(len(all_filenames) * 0.9)]\n",
    "\n",
    "    for filename in files_to_read:\n",
    "       with open(os.path.join(path, filename), 'r', encoding=\"utf8\") as f:\n",
    "           all_texts += f.read()\n",
    "\n",
    "    res = []\n",
    "    for sent in sent_tokenize(all_texts):\n",
    "        words = word_tokenize(re.sub('[^А-Яа-я]', \" \", sent.lower()))\n",
    "        all_words.update(words)\n",
    "        res.append(words)\n",
    "\n",
    "    return res\n",
    "\n",
    "def text_2_features(text):\n",
    "    return {word: (word in text) for word in all_words}\n",
    "\n",
    "def process(sentences, mood):\n",
    "    return [(text_2_features(sent), mood) for sent in sentences]\n",
    "\n",
    "\n",
    "corpus = process(create_corp(\"bayes-corpus/pos\"), \"positive\") + process(create_corp(\"bayes-corpus/neg\"), \"negative\")"
   ]
  },
  {
   "cell_type": "code",
   "execution_count": 61,
   "outputs": [],
   "source": [
    "from nltk import NaiveBayesClassifier\n",
    "\n",
    "model = NaiveBayesClassifier.train(corpus)"
   ],
   "metadata": {
    "collapsed": false,
    "pycharm": {
     "name": "#%%\n"
    }
   }
  },
  {
   "cell_type": "code",
   "execution_count": 62,
   "outputs": [
    {
     "name": "stdout",
     "output_type": "stream",
     "text": [
      "Most Informative Features\n",
      "                  брандо = True           positi : negati =     44.8 : 1.0\n",
      "                корлеоне = True           positi : negati =     35.6 : 1.0\n",
      "                   пьюзо = True           positi : negati =     34.9 : 1.0\n",
      "                    дона = True           positi : negati =     29.5 : 1.0\n",
      "                   семьи = True           positi : negati =     28.1 : 1.0\n",
      "                   марио = True           positi : negati =     25.7 : 1.0\n",
      "                   мафии = True           positi : negati =     25.7 : 1.0\n",
      "                  майкла = True           positi : negati =     24.1 : 1.0\n",
      "                    форд = True           positi : negati =     21.1 : 1.0\n",
      "                  марлон = True           positi : negati =     20.5 : 1.0\n"
     ]
    }
   ],
   "source": [
    "model.show_most_informative_features(10)"
   ],
   "metadata": {
    "collapsed": false,
    "pycharm": {
     "name": "#%%\n"
    }
   }
  },
  {
   "cell_type": "code",
   "execution_count": 63,
   "outputs": [
    {
     "name": "stdout",
     "output_type": "stream",
     "text": [
      "negative\n",
      "positive\n"
     ]
    }
   ],
   "source": [
    "print(model.classify({'мне': True, 'не': True, 'очень': True}))\n",
    "print(model.classify({'мне': True, 'не': False, 'очень': True, 'понравилось': True}))"
   ],
   "metadata": {
    "collapsed": false,
    "pycharm": {
     "name": "#%%\n"
    }
   }
  },
  {
   "cell_type": "code",
   "execution_count": 64,
   "outputs": [
    {
     "name": "stdout",
     "output_type": "stream",
     "text": [
      "0.6972101088087337\n",
      "0.30278989119126526\n"
     ]
    }
   ],
   "source": [
    "pd = model.prob_classify(({'мне': True, 'не': False, 'очень': True, 'понравилось': True}))\n",
    "print(pd.prob('positive'))\n",
    "print(pd.prob('negative'))"
   ],
   "metadata": {
    "collapsed": false,
    "pycharm": {
     "name": "#%%\n"
    }
   }
  },
  {
   "cell_type": "code",
   "execution_count": 65,
   "outputs": [
    {
     "name": "stdout",
     "output_type": "stream",
     "text": [
      "0.5429193037974683\n"
     ]
    }
   ],
   "source": [
    "test_corpus = process(create_corp(\"bayes-corpus/pos\", True), \"positive\") + process(create_corp(\"bayes-corpus/neg\", True), \"negative\")\n",
    "correct = 0;\n",
    "\n",
    "for sent, mood in test_corpus:\n",
    "     if model.classify(sent) == mood:\n",
    "         correct += 1\n",
    "\n",
    "print(correct/len(test_corpus))\n"
   ],
   "metadata": {
    "collapsed": false,
    "pycharm": {
     "name": "#%%\n"
    }
   }
  }
 ],
 "metadata": {
  "kernelspec": {
   "display_name": "Python 3",
   "language": "python",
   "name": "python3"
  },
  "language_info": {
   "codemirror_mode": {
    "name": "ipython",
    "version": 2
   },
   "file_extension": ".py",
   "mimetype": "text/x-python",
   "name": "python",
   "nbconvert_exporter": "python",
   "pygments_lexer": "ipython2",
   "version": "2.7.6"
  }
 },
 "nbformat": 4,
 "nbformat_minor": 0
}