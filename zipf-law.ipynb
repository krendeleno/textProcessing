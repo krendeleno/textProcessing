{
 "cells": [
  {
   "cell_type": "code",
   "execution_count": 44,
   "outputs": [],
   "source": [
    "from urllib.request import urlopen\n",
    "\n",
    "# открываю текст по url\n",
    "html = urlopen(\"http://lib.ru/ADAMS/rhit1s.txt\")"
   ],
   "metadata": {
    "collapsed": false,
    "pycharm": {
     "name": "#%%\n"
    }
   }
  },
  {
   "cell_type": "code",
   "execution_count": 45,
   "outputs": [
    {
     "name": "stderr",
     "output_type": "stream",
     "text": [
      "[nltk_data] Downloading package punkt to\n",
      "[nltk_data]     C:\\Users\\krendeleno\\AppData\\Roaming\\nltk_data...\n",
      "[nltk_data]   Package punkt is already up-to-date!\n"
     ]
    }
   ],
   "source": [
    "import re\n",
    "import nltk\n",
    "nltk.download('punkt')\n",
    "import pymorphy2\n",
    "\n",
    "# составляю словарь частот, предварительно приведя строчки в норм состояние\n",
    "text = \" \".join([re.sub('[^А-Яа-я]', \" \", line.decode(html.headers.get_content_charset())) for line in html])\n",
    "tokenizedWords = nltk.tokenize.word_tokenize(text)\n",
    "freq = nltk.FreqDist(tokenizedWords)\n",
    "\n",
    "# нормализованный словарь частот, кэш для оптимизации\n",
    "dictCache = {}\n",
    "morph = pymorphy2.MorphAnalyzer()\n",
    "def norm(word):\n",
    "    if word in dictCache:\n",
    "        return dictCache[word]\n",
    "    dictCache[word] =  morph.parse(word)[0].normal_form\n",
    "    return dictCache[word]\n",
    "\n",
    "freq_norm = nltk.FreqDist([norm(word) for word in tokenizedWords])"
   ],
   "metadata": {
    "collapsed": false,
    "pycharm": {
     "name": "#%%\n"
    }
   }
  },
  {
   "cell_type": "code",
   "execution_count": 46,
   "outputs": [],
   "source": [
    "import math\n",
    "from matplotlib import pyplot as pp\n",
    "\n",
    "def graph(freq_list):\n",
    "    pp.plot([math.log(i) for i in range(1, len(freq_list) + 1)], [math.log(freq_list[i]) for i in freq_list], '.')"
   ],
   "metadata": {
    "collapsed": false,
    "pycharm": {
     "name": "#%%\n"
    }
   }
  },
  {
   "cell_type": "code",
   "execution_count": 47,
   "outputs": [
    {
     "data": {
      "text/plain": "<Figure size 432x288 with 1 Axes>",
      "image/png": "[encoded data removed]"
     },
     "metadata": {
      "needs_background": "light"
     },
     "output_type": "display_data"
    }
   ],
   "source": [
    "# рисую графики, решила что лучше на одном рисунке чтобы заметнее различие\n",
    "graph(freq)\n",
    "graph(freq_norm)\n"
   ],
   "metadata": {
    "collapsed": false,
    "pycharm": {
     "name": "#%%\n"
    }
   }
  },
  {
   "cell_type": "code",
   "execution_count": 83,
   "outputs": [
    {
     "name": "stdout",
     "output_type": "stream",
     "text": [
      "k = [-0.98978389], b = 8.436748651450593\n"
     ]
    }
   ],
   "source": [
    "# пытаюсь в линейную регрессию\n",
    "import numpy as np\n",
    "from sklearn.linear_model import LinearRegression\n",
    "\n",
    "points = np.log(np.array([[i for i in range(1, len(freq_norm) + 1)], [(freq_norm[i]) for i in freq_norm]]))\n",
    "\n",
    "reg = LinearRegression()\n",
    "reg.fit(points.T[:, 0:1], points.T[:, 1])\n",
    "\n",
    "print(f'k = {reg.coef_}, b = {reg.intercept_}')"
   ],
   "metadata": {
    "collapsed": false,
    "pycharm": {
     "name": "#%%\n"
    }
   }
  },
  {
   "cell_type": "code",
   "execution_count": 84,
   "outputs": [
    {
     "data": {
      "text/plain": "<Figure size 432x288 with 1 Axes>",
      "image/png": "[encoded data removed]"
     },
     "metadata": {
      "needs_background": "light"
     },
     "output_type": "display_data"
    }
   ],
   "source": [
    "# рисую график\n",
    "# p.s. просто невероятно, что в библиотеке для рисования\n",
    "# графиков нельзя нарисовать линию по коэффициентам!\n",
    "\n",
    "def get_y(x):\n",
    "    return reg.intercept_ + reg.coef_ * x\n",
    "\n",
    "pp.plot([0, 9], [get_y(0), get_y(9)], '-')\n",
    "graph(freq)"
   ],
   "metadata": {
    "collapsed": false,
    "pycharm": {
     "name": "#%%\n"
    }
   }
  }
 ],
 "metadata": {
  "kernelspec": {
   "display_name": "Python 3",
   "language": "python",
   "name": "python3"
  },
  "language_info": {
   "codemirror_mode": {
    "name": "ipython",
    "version": 2
   },
   "file_extension": ".py",
   "mimetype": "text/x-python",
   "name": "python",
   "nbconvert_exporter": "python",
   "pygments_lexer": "ipython2",
   "version": "2.7.6"
  }
 },
 "nbformat": 4,
 "nbformat_minor": 0
}