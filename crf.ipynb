{
 "cells": [
  {
   "cell_type": "code",
   "execution_count": 27,
   "metadata": {
    "collapsed": true
   },
   "outputs": [
    {
     "name": "stdout",
     "output_type": "stream",
     "text": [
      "[['«', 'Школа', 'злословия', '»', 'учит', 'прикусить', 'язык'], ['Сохранится', 'ли', 'градус', 'дискуссии', 'в', 'новом', 'сезоне', '?'], ['Великолепная', '«', 'Школа', 'злословия', '»', 'вернулась', 'в', 'эфир', 'после', 'летних', 'каникул', 'в', 'новом', 'формате', '.'], ['Потом', 'проект', 'переехал', 'с', '«', 'Культуры', '»', 'на', 'НТВ', '.'], ['Это', 'помимо', 'явных', 'перемен', 'в', 'виде', 'тут', 'же', 'появившихся', 'рекламных', 'блоков', ',', 'отсутствовавших', 'на', '«', 'Культуре', '»', ',', 'позволило', ',', 'с', 'одной', 'стороны', ',', 'расширить', 'круг', 'гостей', ',', 'с', 'другой', '–', 'изменить', 'тон', 'разговора', '.'], ['Народные', 'любимцы'], ['Продлится', 'она', '55', 'дней', ',', 'до', '5', 'ноября', '.'], ['За', 'кота', '–', 'ответишь', '!'], ['Шпаги', ',', 'деньги', ',', 'биржа'], ['Звери', ',', 'деньги', ',', 'наркота']]\n",
      "[['PNCT', 'NOUN', 'NOUN', 'PNCT', 'VERB', 'INFN', 'NOUN'], ['VERB', 'PRCL', 'NOUN', 'NOUN', 'PREP', 'ADJF', 'NOUN', 'PNCT'], ['ADJF', 'PNCT', 'NOUN', 'NOUN', 'PNCT', 'VERB', 'PREP', 'NOUN', 'PREP', 'ADJF', 'NOUN', 'PREP', 'ADJF', 'NOUN', 'PNCT'], ['ADVB', 'NOUN', 'VERB', 'PREP', 'PNCT', 'NOUN', 'PNCT', 'PREP', 'NOUN', 'PNCT'], ['NPRO', 'PREP', 'ADJF', 'NOUN', 'PREP', 'NOUN', 'ADVB', 'PRCL', 'PRTF', 'ADJF', 'NOUN', 'PNCT', 'PRTF', 'PREP', 'PNCT', 'NOUN', 'PNCT', 'PNCT', 'VERB', 'PNCT', 'PREP', 'ADJF', 'NOUN', 'PNCT', 'INFN', 'NOUN', 'NOUN', 'PNCT', 'PREP', 'ADJF', 'PNCT', 'INFN', 'NOUN', 'NOUN', 'PNCT'], ['ADJF', 'NOUN'], ['VERB', 'NPRO', 'NUMB', 'NOUN', 'PNCT', 'PREP', 'NUMB', 'NOUN', 'PNCT'], ['PREP', 'NOUN', 'PNCT', 'VERB', 'PNCT'], ['NOUN', 'PNCT', 'NOUN', 'PNCT', 'NOUN'], ['NOUN', 'PNCT', 'NOUN', 'PNCT', 'NOUN']]\n"
     ]
    }
   ],
   "source": [
    "from xml.etree import ElementTree as ET\n",
    "\n",
    "# читаю xml\n",
    "with open(\"oc.xml\", mode=\"r\", encoding=\"utf8\") as f:\n",
    "    doc = ET.parse(f)\n",
    "\n",
    "all_words = []\n",
    "all_pos = []\n",
    "\n",
    "for sent in doc.findall('.//tokens'):\n",
    "    all_words.append([word.get('text') for word in sent])\n",
    "    all_pos.append([word.find('.//g').get('v') for word in sent])\n",
    "\n",
    "print(all_words[:10])\n",
    "print(all_pos[:10])"
   ]
  },
  {
   "cell_type": "code",
   "execution_count": 28,
   "outputs": [
    {
     "name": "stdout",
     "output_type": "stream",
     "text": [
      "{'[-2:]': '«', 'letter_case': 'lower', 'START': True, 'next-[-2:]': 'Ш', 'next-letter_case': 'upper'}\n"
     ]
    }
   ],
   "source": [
    "# функция для получения признаков\n",
    "def get_features_base(current_word, prefix):\n",
    "    return {\n",
    "            f'{prefix}[-2:]': current_word[-2:],  # последние две буквы слова\n",
    "            f'{prefix}letter_case': 'upper' if current_word[0].isupper() else 'lower', # регистр букв\n",
    "        }\n",
    "\n",
    "def get_features(sentence, word_index):\n",
    "    word = sentence[word_index]\n",
    "\n",
    "    features = get_features_base(word, '')\n",
    "\n",
    "    if word_index == 0:\n",
    "        features['START'] = True  # признак начала предложения\n",
    "    elif word_index == len(sentence) - 1:\n",
    "        features['END'] = True  # признак конца предложения\n",
    "\n",
    "    # признаки соседних слов\n",
    "    if word_index + 1 <= len(sentence) - 1:\n",
    "        features.update(get_features_base(sentence[word_index + 1][0], 'next-'))\n",
    "    if word_index - 1 >= 0:\n",
    "        features.update(get_features_base(sentence[word_index - 1][0], 'prev-'))\n",
    "\n",
    "    return features\n",
    "\n",
    "print(get_features(all_words[0], 0))"
   ],
   "metadata": {
    "collapsed": false,
    "pycharm": {
     "name": "#%%\n"
    }
   }
  },
  {
   "cell_type": "code",
   "execution_count": 29,
   "outputs": [
    {
     "name": "stdout",
     "output_type": "stream",
     "text": [
      "[[{'[-2:]': '«', 'letter_case': 'lower', 'START': True, 'next-[-2:]': 'Ш', 'next-letter_case': 'upper'}, {'[-2:]': 'ла', 'letter_case': 'upper', 'next-[-2:]': 'з', 'next-letter_case': 'lower', 'prev-[-2:]': '«', 'prev-letter_case': 'lower'}, {'[-2:]': 'ия', 'letter_case': 'lower', 'next-[-2:]': '»', 'next-letter_case': 'lower', 'prev-[-2:]': 'Ш', 'prev-letter_case': 'upper'}, {'[-2:]': '»', 'letter_case': 'lower', 'next-[-2:]': 'у', 'next-letter_case': 'lower', 'prev-[-2:]': 'з', 'prev-letter_case': 'lower'}, {'[-2:]': 'ит', 'letter_case': 'lower', 'next-[-2:]': 'п', 'next-letter_case': 'lower', 'prev-[-2:]': '»', 'prev-letter_case': 'lower'}, {'[-2:]': 'ть', 'letter_case': 'lower', 'next-[-2:]': 'я', 'next-letter_case': 'lower', 'prev-[-2:]': 'у', 'prev-letter_case': 'lower'}, {'[-2:]': 'ык', 'letter_case': 'lower', 'END': True, 'prev-[-2:]': 'п', 'prev-letter_case': 'lower'}], [{'[-2:]': 'ся', 'letter_case': 'upper', 'START': True, 'next-[-2:]': 'л', 'next-letter_case': 'lower'}, {'[-2:]': 'ли', 'letter_case': 'lower', 'next-[-2:]': 'г', 'next-letter_case': 'lower', 'prev-[-2:]': 'С', 'prev-letter_case': 'upper'}, {'[-2:]': 'ус', 'letter_case': 'lower', 'next-[-2:]': 'д', 'next-letter_case': 'lower', 'prev-[-2:]': 'л', 'prev-letter_case': 'lower'}, {'[-2:]': 'ии', 'letter_case': 'lower', 'next-[-2:]': 'в', 'next-letter_case': 'lower', 'prev-[-2:]': 'г', 'prev-letter_case': 'lower'}, {'[-2:]': 'в', 'letter_case': 'lower', 'next-[-2:]': 'н', 'next-letter_case': 'lower', 'prev-[-2:]': 'д', 'prev-letter_case': 'lower'}, {'[-2:]': 'ом', 'letter_case': 'lower', 'next-[-2:]': 'с', 'next-letter_case': 'lower', 'prev-[-2:]': 'в', 'prev-letter_case': 'lower'}, {'[-2:]': 'не', 'letter_case': 'lower', 'next-[-2:]': '?', 'next-letter_case': 'lower', 'prev-[-2:]': 'н', 'prev-letter_case': 'lower'}, {'[-2:]': '?', 'letter_case': 'lower', 'END': True, 'prev-[-2:]': 'с', 'prev-letter_case': 'lower'}]]\n"
     ]
    }
   ],
   "source": [
    "# признаки всех слов по предложениям\n",
    "all_features = [\n",
    "    [get_features(sentence, ind) for ind in range(len(sentence))]\n",
    "    for sentence in all_words\n",
    "]\n",
    "\n",
    "print(all_features[:2])"
   ],
   "metadata": {
    "collapsed": false,
    "pycharm": {
     "name": "#%%\n"
    }
   }
  },
  {
   "cell_type": "code",
   "execution_count": 32,
   "outputs": [],
   "source": [
    "import math\n",
    "\n",
    "# тестовый и учебный корпуса\n",
    "train_set = all_features[:math.floor(len(all_features) * 0.8)]\n",
    "train_set_pos = all_pos[:math.floor(len(all_pos) * 0.8)]\n",
    "\n",
    "test_set = all_features[math.floor(len(all_features) * 0.8):]\n",
    "test_set_pos = all_pos[math.floor(len(all_pos) * 0.8):]"
   ],
   "metadata": {
    "collapsed": false,
    "pycharm": {
     "name": "#%%\n"
    }
   }
  },
  {
   "cell_type": "code",
   "execution_count": 33,
   "outputs": [
    {
     "ename": "AttributeError",
     "evalue": "'CRF' object has no attribute 'keep_tempfiles'",
     "output_type": "error",
     "traceback": [
      "\u001B[1;31m---------------------------------------------------------------------------\u001B[0m",
      "\u001B[1;31mAttributeError\u001B[0m                            Traceback (most recent call last)",
      "File \u001B[1;32m~\\Обработка текстов\\lib\\site-packages\\IPython\\core\\formatters.py:973\u001B[0m, in \u001B[0;36mMimeBundleFormatter.__call__\u001B[1;34m(self, obj, include, exclude)\u001B[0m\n\u001B[0;32m    970\u001B[0m     method \u001B[38;5;241m=\u001B[39m get_real_method(obj, \u001B[38;5;28mself\u001B[39m\u001B[38;5;241m.\u001B[39mprint_method)\n\u001B[0;32m    972\u001B[0m     \u001B[38;5;28;01mif\u001B[39;00m method \u001B[38;5;129;01mis\u001B[39;00m \u001B[38;5;129;01mnot\u001B[39;00m \u001B[38;5;28;01mNone\u001B[39;00m:\n\u001B[1;32m--> 973\u001B[0m         \u001B[38;5;28;01mreturn\u001B[39;00m \u001B[43mmethod\u001B[49m\u001B[43m(\u001B[49m\u001B[43minclude\u001B[49m\u001B[38;5;241;43m=\u001B[39;49m\u001B[43minclude\u001B[49m\u001B[43m,\u001B[49m\u001B[43m \u001B[49m\u001B[43mexclude\u001B[49m\u001B[38;5;241;43m=\u001B[39;49m\u001B[43mexclude\u001B[49m\u001B[43m)\u001B[49m\n\u001B[0;32m    974\u001B[0m     \u001B[38;5;28;01mreturn\u001B[39;00m \u001B[38;5;28;01mNone\u001B[39;00m\n\u001B[0;32m    975\u001B[0m \u001B[38;5;28;01melse\u001B[39;00m:\n",
      "File \u001B[1;32m~\\Обработка текстов\\lib\\site-packages\\sklearn\\base.py:614\u001B[0m, in \u001B[0;36mBaseEstimator._repr_mimebundle_\u001B[1;34m(self, **kwargs)\u001B[0m\n\u001B[0;32m    612\u001B[0m \u001B[38;5;28;01mdef\u001B[39;00m \u001B[38;5;21m_repr_mimebundle_\u001B[39m(\u001B[38;5;28mself\u001B[39m, \u001B[38;5;241m*\u001B[39m\u001B[38;5;241m*\u001B[39mkwargs):\n\u001B[0;32m    613\u001B[0m     \u001B[38;5;124;03m\"\"\"Mime bundle used by jupyter kernels to display estimator\"\"\"\u001B[39;00m\n\u001B[1;32m--> 614\u001B[0m     output \u001B[38;5;241m=\u001B[39m {\u001B[38;5;124m\"\u001B[39m\u001B[38;5;124mtext/plain\u001B[39m\u001B[38;5;124m\"\u001B[39m: \u001B[38;5;28;43mrepr\u001B[39;49m\u001B[43m(\u001B[49m\u001B[38;5;28;43mself\u001B[39;49m\u001B[43m)\u001B[49m}\n\u001B[0;32m    615\u001B[0m     \u001B[38;5;28;01mif\u001B[39;00m get_config()[\u001B[38;5;124m\"\u001B[39m\u001B[38;5;124mdisplay\u001B[39m\u001B[38;5;124m\"\u001B[39m] \u001B[38;5;241m==\u001B[39m \u001B[38;5;124m\"\u001B[39m\u001B[38;5;124mdiagram\u001B[39m\u001B[38;5;124m\"\u001B[39m:\n\u001B[0;32m    616\u001B[0m         output[\u001B[38;5;124m\"\u001B[39m\u001B[38;5;124mtext/html\u001B[39m\u001B[38;5;124m\"\u001B[39m] \u001B[38;5;241m=\u001B[39m estimator_html_repr(\u001B[38;5;28mself\u001B[39m)\n",
      "File \u001B[1;32m~\\Обработка текстов\\lib\\site-packages\\sklearn\\base.py:279\u001B[0m, in \u001B[0;36mBaseEstimator.__repr__\u001B[1;34m(self, N_CHAR_MAX)\u001B[0m\n\u001B[0;32m    271\u001B[0m \u001B[38;5;66;03m# use ellipsis for sequences with a lot of elements\u001B[39;00m\n\u001B[0;32m    272\u001B[0m pp \u001B[38;5;241m=\u001B[39m _EstimatorPrettyPrinter(\n\u001B[0;32m    273\u001B[0m     compact\u001B[38;5;241m=\u001B[39m\u001B[38;5;28;01mTrue\u001B[39;00m,\n\u001B[0;32m    274\u001B[0m     indent\u001B[38;5;241m=\u001B[39m\u001B[38;5;241m1\u001B[39m,\n\u001B[0;32m    275\u001B[0m     indent_at_name\u001B[38;5;241m=\u001B[39m\u001B[38;5;28;01mTrue\u001B[39;00m,\n\u001B[0;32m    276\u001B[0m     n_max_elements_to_show\u001B[38;5;241m=\u001B[39mN_MAX_ELEMENTS_TO_SHOW,\n\u001B[0;32m    277\u001B[0m )\n\u001B[1;32m--> 279\u001B[0m repr_ \u001B[38;5;241m=\u001B[39m \u001B[43mpp\u001B[49m\u001B[38;5;241;43m.\u001B[39;49m\u001B[43mpformat\u001B[49m\u001B[43m(\u001B[49m\u001B[38;5;28;43mself\u001B[39;49m\u001B[43m)\u001B[49m\n\u001B[0;32m    281\u001B[0m \u001B[38;5;66;03m# Use bruteforce ellipsis when there are a lot of non-blank characters\u001B[39;00m\n\u001B[0;32m    282\u001B[0m n_nonblank \u001B[38;5;241m=\u001B[39m \u001B[38;5;28mlen\u001B[39m(\u001B[38;5;124m\"\u001B[39m\u001B[38;5;124m\"\u001B[39m\u001B[38;5;241m.\u001B[39mjoin(repr_\u001B[38;5;241m.\u001B[39msplit()))\n",
      "File \u001B[1;32m~\\AppData\\Local\\Programs\\Python\\Python310\\lib\\pprint.py:157\u001B[0m, in \u001B[0;36mPrettyPrinter.pformat\u001B[1;34m(self, object)\u001B[0m\n\u001B[0;32m    155\u001B[0m \u001B[38;5;28;01mdef\u001B[39;00m \u001B[38;5;21mpformat\u001B[39m(\u001B[38;5;28mself\u001B[39m, \u001B[38;5;28mobject\u001B[39m):\n\u001B[0;32m    156\u001B[0m     sio \u001B[38;5;241m=\u001B[39m _StringIO()\n\u001B[1;32m--> 157\u001B[0m     \u001B[38;5;28;43mself\u001B[39;49m\u001B[38;5;241;43m.\u001B[39;49m\u001B[43m_format\u001B[49m\u001B[43m(\u001B[49m\u001B[38;5;28;43mobject\u001B[39;49m\u001B[43m,\u001B[49m\u001B[43m \u001B[49m\u001B[43msio\u001B[49m\u001B[43m,\u001B[49m\u001B[43m \u001B[49m\u001B[38;5;241;43m0\u001B[39;49m\u001B[43m,\u001B[49m\u001B[43m \u001B[49m\u001B[38;5;241;43m0\u001B[39;49m\u001B[43m,\u001B[49m\u001B[43m \u001B[49m\u001B[43m{\u001B[49m\u001B[43m}\u001B[49m\u001B[43m,\u001B[49m\u001B[43m \u001B[49m\u001B[38;5;241;43m0\u001B[39;49m\u001B[43m)\u001B[49m\n\u001B[0;32m    158\u001B[0m     \u001B[38;5;28;01mreturn\u001B[39;00m sio\u001B[38;5;241m.\u001B[39mgetvalue()\n",
      "File \u001B[1;32m~\\AppData\\Local\\Programs\\Python\\Python310\\lib\\pprint.py:174\u001B[0m, in \u001B[0;36mPrettyPrinter._format\u001B[1;34m(self, object, stream, indent, allowance, context, level)\u001B[0m\n\u001B[0;32m    172\u001B[0m     \u001B[38;5;28mself\u001B[39m\u001B[38;5;241m.\u001B[39m_readable \u001B[38;5;241m=\u001B[39m \u001B[38;5;28;01mFalse\u001B[39;00m\n\u001B[0;32m    173\u001B[0m     \u001B[38;5;28;01mreturn\u001B[39;00m\n\u001B[1;32m--> 174\u001B[0m rep \u001B[38;5;241m=\u001B[39m \u001B[38;5;28;43mself\u001B[39;49m\u001B[38;5;241;43m.\u001B[39;49m\u001B[43m_repr\u001B[49m\u001B[43m(\u001B[49m\u001B[38;5;28;43mobject\u001B[39;49m\u001B[43m,\u001B[49m\u001B[43m \u001B[49m\u001B[43mcontext\u001B[49m\u001B[43m,\u001B[49m\u001B[43m \u001B[49m\u001B[43mlevel\u001B[49m\u001B[43m)\u001B[49m\n\u001B[0;32m    175\u001B[0m max_width \u001B[38;5;241m=\u001B[39m \u001B[38;5;28mself\u001B[39m\u001B[38;5;241m.\u001B[39m_width \u001B[38;5;241m-\u001B[39m indent \u001B[38;5;241m-\u001B[39m allowance\n\u001B[0;32m    176\u001B[0m \u001B[38;5;28;01mif\u001B[39;00m \u001B[38;5;28mlen\u001B[39m(rep) \u001B[38;5;241m>\u001B[39m max_width:\n",
      "File \u001B[1;32m~\\AppData\\Local\\Programs\\Python\\Python310\\lib\\pprint.py:454\u001B[0m, in \u001B[0;36mPrettyPrinter._repr\u001B[1;34m(self, object, context, level)\u001B[0m\n\u001B[0;32m    453\u001B[0m \u001B[38;5;28;01mdef\u001B[39;00m \u001B[38;5;21m_repr\u001B[39m(\u001B[38;5;28mself\u001B[39m, \u001B[38;5;28mobject\u001B[39m, context, level):\n\u001B[1;32m--> 454\u001B[0m     \u001B[38;5;28mrepr\u001B[39m, readable, recursive \u001B[38;5;241m=\u001B[39m \u001B[38;5;28;43mself\u001B[39;49m\u001B[38;5;241;43m.\u001B[39;49m\u001B[43mformat\u001B[49m\u001B[43m(\u001B[49m\u001B[38;5;28;43mobject\u001B[39;49m\u001B[43m,\u001B[49m\u001B[43m \u001B[49m\u001B[43mcontext\u001B[49m\u001B[38;5;241;43m.\u001B[39;49m\u001B[43mcopy\u001B[49m\u001B[43m(\u001B[49m\u001B[43m)\u001B[49m\u001B[43m,\u001B[49m\n\u001B[0;32m    455\u001B[0m \u001B[43m                                            \u001B[49m\u001B[38;5;28;43mself\u001B[39;49m\u001B[38;5;241;43m.\u001B[39;49m\u001B[43m_depth\u001B[49m\u001B[43m,\u001B[49m\u001B[43m \u001B[49m\u001B[43mlevel\u001B[49m\u001B[43m)\u001B[49m\n\u001B[0;32m    456\u001B[0m     \u001B[38;5;28;01mif\u001B[39;00m \u001B[38;5;129;01mnot\u001B[39;00m readable:\n\u001B[0;32m    457\u001B[0m         \u001B[38;5;28mself\u001B[39m\u001B[38;5;241m.\u001B[39m_readable \u001B[38;5;241m=\u001B[39m \u001B[38;5;28;01mFalse\u001B[39;00m\n",
      "File \u001B[1;32m~\\Обработка текстов\\lib\\site-packages\\sklearn\\utils\\_pprint.py:189\u001B[0m, in \u001B[0;36m_EstimatorPrettyPrinter.format\u001B[1;34m(self, object, context, maxlevels, level)\u001B[0m\n\u001B[0;32m    188\u001B[0m \u001B[38;5;28;01mdef\u001B[39;00m \u001B[38;5;21mformat\u001B[39m(\u001B[38;5;28mself\u001B[39m, \u001B[38;5;28mobject\u001B[39m, context, maxlevels, level):\n\u001B[1;32m--> 189\u001B[0m     \u001B[38;5;28;01mreturn\u001B[39;00m \u001B[43m_safe_repr\u001B[49m\u001B[43m(\u001B[49m\n\u001B[0;32m    190\u001B[0m \u001B[43m        \u001B[49m\u001B[38;5;28;43mobject\u001B[39;49m\u001B[43m,\u001B[49m\u001B[43m \u001B[49m\u001B[43mcontext\u001B[49m\u001B[43m,\u001B[49m\u001B[43m \u001B[49m\u001B[43mmaxlevels\u001B[49m\u001B[43m,\u001B[49m\u001B[43m \u001B[49m\u001B[43mlevel\u001B[49m\u001B[43m,\u001B[49m\u001B[43m \u001B[49m\u001B[43mchanged_only\u001B[49m\u001B[38;5;241;43m=\u001B[39;49m\u001B[38;5;28;43mself\u001B[39;49m\u001B[38;5;241;43m.\u001B[39;49m\u001B[43m_changed_only\u001B[49m\n\u001B[0;32m    191\u001B[0m \u001B[43m    \u001B[49m\u001B[43m)\u001B[49m\n",
      "File \u001B[1;32m~\\Обработка текстов\\lib\\site-packages\\sklearn\\utils\\_pprint.py:440\u001B[0m, in \u001B[0;36m_safe_repr\u001B[1;34m(object, context, maxlevels, level, changed_only)\u001B[0m\n\u001B[0;32m    438\u001B[0m recursive \u001B[38;5;241m=\u001B[39m \u001B[38;5;28;01mFalse\u001B[39;00m\n\u001B[0;32m    439\u001B[0m \u001B[38;5;28;01mif\u001B[39;00m changed_only:\n\u001B[1;32m--> 440\u001B[0m     params \u001B[38;5;241m=\u001B[39m \u001B[43m_changed_params\u001B[49m\u001B[43m(\u001B[49m\u001B[38;5;28;43mobject\u001B[39;49m\u001B[43m)\u001B[49m\n\u001B[0;32m    441\u001B[0m \u001B[38;5;28;01melse\u001B[39;00m:\n\u001B[0;32m    442\u001B[0m     params \u001B[38;5;241m=\u001B[39m \u001B[38;5;28mobject\u001B[39m\u001B[38;5;241m.\u001B[39mget_params(deep\u001B[38;5;241m=\u001B[39m\u001B[38;5;28;01mFalse\u001B[39;00m)\n",
      "File \u001B[1;32m~\\Обработка текстов\\lib\\site-packages\\sklearn\\utils\\_pprint.py:93\u001B[0m, in \u001B[0;36m_changed_params\u001B[1;34m(estimator)\u001B[0m\n\u001B[0;32m     89\u001B[0m \u001B[38;5;28;01mdef\u001B[39;00m \u001B[38;5;21m_changed_params\u001B[39m(estimator):\n\u001B[0;32m     90\u001B[0m     \u001B[38;5;124;03m\"\"\"Return dict (param_name: value) of parameters that were given to\u001B[39;00m\n\u001B[0;32m     91\u001B[0m \u001B[38;5;124;03m    estimator with non-default values.\"\"\"\u001B[39;00m\n\u001B[1;32m---> 93\u001B[0m     params \u001B[38;5;241m=\u001B[39m \u001B[43mestimator\u001B[49m\u001B[38;5;241;43m.\u001B[39;49m\u001B[43mget_params\u001B[49m\u001B[43m(\u001B[49m\u001B[43mdeep\u001B[49m\u001B[38;5;241;43m=\u001B[39;49m\u001B[38;5;28;43;01mFalse\u001B[39;49;00m\u001B[43m)\u001B[49m\n\u001B[0;32m     94\u001B[0m     init_func \u001B[38;5;241m=\u001B[39m \u001B[38;5;28mgetattr\u001B[39m(estimator\u001B[38;5;241m.\u001B[39m\u001B[38;5;21m__init__\u001B[39m, \u001B[38;5;124m\"\u001B[39m\u001B[38;5;124mdeprecated_original\u001B[39m\u001B[38;5;124m\"\u001B[39m, estimator\u001B[38;5;241m.\u001B[39m\u001B[38;5;21m__init__\u001B[39m)\n\u001B[0;32m     95\u001B[0m     init_params \u001B[38;5;241m=\u001B[39m inspect\u001B[38;5;241m.\u001B[39msignature(init_func)\u001B[38;5;241m.\u001B[39mparameters\n",
      "File \u001B[1;32m~\\Обработка текстов\\lib\\site-packages\\sklearn\\base.py:210\u001B[0m, in \u001B[0;36mBaseEstimator.get_params\u001B[1;34m(self, deep)\u001B[0m\n\u001B[0;32m    208\u001B[0m out \u001B[38;5;241m=\u001B[39m \u001B[38;5;28mdict\u001B[39m()\n\u001B[0;32m    209\u001B[0m \u001B[38;5;28;01mfor\u001B[39;00m key \u001B[38;5;129;01min\u001B[39;00m \u001B[38;5;28mself\u001B[39m\u001B[38;5;241m.\u001B[39m_get_param_names():\n\u001B[1;32m--> 210\u001B[0m     value \u001B[38;5;241m=\u001B[39m \u001B[38;5;28;43mgetattr\u001B[39;49m\u001B[43m(\u001B[49m\u001B[38;5;28;43mself\u001B[39;49m\u001B[43m,\u001B[49m\u001B[43m \u001B[49m\u001B[43mkey\u001B[49m\u001B[43m)\u001B[49m\n\u001B[0;32m    211\u001B[0m     \u001B[38;5;28;01mif\u001B[39;00m deep \u001B[38;5;129;01mand\u001B[39;00m \u001B[38;5;28mhasattr\u001B[39m(value, \u001B[38;5;124m\"\u001B[39m\u001B[38;5;124mget_params\u001B[39m\u001B[38;5;124m\"\u001B[39m):\n\u001B[0;32m    212\u001B[0m         deep_items \u001B[38;5;241m=\u001B[39m value\u001B[38;5;241m.\u001B[39mget_params()\u001B[38;5;241m.\u001B[39mitems()\n",
      "\u001B[1;31mAttributeError\u001B[0m: 'CRF' object has no attribute 'keep_tempfiles'"
     ]
    },
    {
     "ename": "AttributeError",
     "evalue": "'CRF' object has no attribute 'keep_tempfiles'",
     "output_type": "error",
     "traceback": [
      "\u001B[1;31m---------------------------------------------------------------------------\u001B[0m",
      "\u001B[1;31mAttributeError\u001B[0m                            Traceback (most recent call last)",
      "File \u001B[1;32m~\\Обработка текстов\\lib\\site-packages\\IPython\\core\\formatters.py:707\u001B[0m, in \u001B[0;36mPlainTextFormatter.__call__\u001B[1;34m(self, obj)\u001B[0m\n\u001B[0;32m    700\u001B[0m stream \u001B[38;5;241m=\u001B[39m StringIO()\n\u001B[0;32m    701\u001B[0m printer \u001B[38;5;241m=\u001B[39m pretty\u001B[38;5;241m.\u001B[39mRepresentationPrinter(stream, \u001B[38;5;28mself\u001B[39m\u001B[38;5;241m.\u001B[39mverbose,\n\u001B[0;32m    702\u001B[0m     \u001B[38;5;28mself\u001B[39m\u001B[38;5;241m.\u001B[39mmax_width, \u001B[38;5;28mself\u001B[39m\u001B[38;5;241m.\u001B[39mnewline,\n\u001B[0;32m    703\u001B[0m     max_seq_length\u001B[38;5;241m=\u001B[39m\u001B[38;5;28mself\u001B[39m\u001B[38;5;241m.\u001B[39mmax_seq_length,\n\u001B[0;32m    704\u001B[0m     singleton_pprinters\u001B[38;5;241m=\u001B[39m\u001B[38;5;28mself\u001B[39m\u001B[38;5;241m.\u001B[39msingleton_printers,\n\u001B[0;32m    705\u001B[0m     type_pprinters\u001B[38;5;241m=\u001B[39m\u001B[38;5;28mself\u001B[39m\u001B[38;5;241m.\u001B[39mtype_printers,\n\u001B[0;32m    706\u001B[0m     deferred_pprinters\u001B[38;5;241m=\u001B[39m\u001B[38;5;28mself\u001B[39m\u001B[38;5;241m.\u001B[39mdeferred_printers)\n\u001B[1;32m--> 707\u001B[0m \u001B[43mprinter\u001B[49m\u001B[38;5;241;43m.\u001B[39;49m\u001B[43mpretty\u001B[49m\u001B[43m(\u001B[49m\u001B[43mobj\u001B[49m\u001B[43m)\u001B[49m\n\u001B[0;32m    708\u001B[0m printer\u001B[38;5;241m.\u001B[39mflush()\n\u001B[0;32m    709\u001B[0m \u001B[38;5;28;01mreturn\u001B[39;00m stream\u001B[38;5;241m.\u001B[39mgetvalue()\n",
      "File \u001B[1;32m~\\Обработка текстов\\lib\\site-packages\\IPython\\lib\\pretty.py:410\u001B[0m, in \u001B[0;36mRepresentationPrinter.pretty\u001B[1;34m(self, obj)\u001B[0m\n\u001B[0;32m    407\u001B[0m                         \u001B[38;5;28;01mreturn\u001B[39;00m meth(obj, \u001B[38;5;28mself\u001B[39m, cycle)\n\u001B[0;32m    408\u001B[0m                 \u001B[38;5;28;01mif\u001B[39;00m \u001B[38;5;28mcls\u001B[39m \u001B[38;5;129;01mis\u001B[39;00m \u001B[38;5;129;01mnot\u001B[39;00m \u001B[38;5;28mobject\u001B[39m \\\n\u001B[0;32m    409\u001B[0m                         \u001B[38;5;129;01mand\u001B[39;00m callable(\u001B[38;5;28mcls\u001B[39m\u001B[38;5;241m.\u001B[39m\u001B[38;5;18m__dict__\u001B[39m\u001B[38;5;241m.\u001B[39mget(\u001B[38;5;124m'\u001B[39m\u001B[38;5;124m__repr__\u001B[39m\u001B[38;5;124m'\u001B[39m)):\n\u001B[1;32m--> 410\u001B[0m                     \u001B[38;5;28;01mreturn\u001B[39;00m \u001B[43m_repr_pprint\u001B[49m\u001B[43m(\u001B[49m\u001B[43mobj\u001B[49m\u001B[43m,\u001B[49m\u001B[43m \u001B[49m\u001B[38;5;28;43mself\u001B[39;49m\u001B[43m,\u001B[49m\u001B[43m \u001B[49m\u001B[43mcycle\u001B[49m\u001B[43m)\u001B[49m\n\u001B[0;32m    412\u001B[0m     \u001B[38;5;28;01mreturn\u001B[39;00m _default_pprint(obj, \u001B[38;5;28mself\u001B[39m, cycle)\n\u001B[0;32m    413\u001B[0m \u001B[38;5;28;01mfinally\u001B[39;00m:\n",
      "File \u001B[1;32m~\\Обработка текстов\\lib\\site-packages\\IPython\\lib\\pretty.py:778\u001B[0m, in \u001B[0;36m_repr_pprint\u001B[1;34m(obj, p, cycle)\u001B[0m\n\u001B[0;32m    776\u001B[0m \u001B[38;5;124;03m\"\"\"A pprint that just redirects to the normal repr function.\"\"\"\u001B[39;00m\n\u001B[0;32m    777\u001B[0m \u001B[38;5;66;03m# Find newlines and replace them with p.break_()\u001B[39;00m\n\u001B[1;32m--> 778\u001B[0m output \u001B[38;5;241m=\u001B[39m \u001B[38;5;28;43mrepr\u001B[39;49m\u001B[43m(\u001B[49m\u001B[43mobj\u001B[49m\u001B[43m)\u001B[49m\n\u001B[0;32m    779\u001B[0m lines \u001B[38;5;241m=\u001B[39m output\u001B[38;5;241m.\u001B[39msplitlines()\n\u001B[0;32m    780\u001B[0m \u001B[38;5;28;01mwith\u001B[39;00m p\u001B[38;5;241m.\u001B[39mgroup():\n",
      "File \u001B[1;32m~\\Обработка текстов\\lib\\site-packages\\sklearn\\base.py:279\u001B[0m, in \u001B[0;36mBaseEstimator.__repr__\u001B[1;34m(self, N_CHAR_MAX)\u001B[0m\n\u001B[0;32m    271\u001B[0m \u001B[38;5;66;03m# use ellipsis for sequences with a lot of elements\u001B[39;00m\n\u001B[0;32m    272\u001B[0m pp \u001B[38;5;241m=\u001B[39m _EstimatorPrettyPrinter(\n\u001B[0;32m    273\u001B[0m     compact\u001B[38;5;241m=\u001B[39m\u001B[38;5;28;01mTrue\u001B[39;00m,\n\u001B[0;32m    274\u001B[0m     indent\u001B[38;5;241m=\u001B[39m\u001B[38;5;241m1\u001B[39m,\n\u001B[0;32m    275\u001B[0m     indent_at_name\u001B[38;5;241m=\u001B[39m\u001B[38;5;28;01mTrue\u001B[39;00m,\n\u001B[0;32m    276\u001B[0m     n_max_elements_to_show\u001B[38;5;241m=\u001B[39mN_MAX_ELEMENTS_TO_SHOW,\n\u001B[0;32m    277\u001B[0m )\n\u001B[1;32m--> 279\u001B[0m repr_ \u001B[38;5;241m=\u001B[39m \u001B[43mpp\u001B[49m\u001B[38;5;241;43m.\u001B[39;49m\u001B[43mpformat\u001B[49m\u001B[43m(\u001B[49m\u001B[38;5;28;43mself\u001B[39;49m\u001B[43m)\u001B[49m\n\u001B[0;32m    281\u001B[0m \u001B[38;5;66;03m# Use bruteforce ellipsis when there are a lot of non-blank characters\u001B[39;00m\n\u001B[0;32m    282\u001B[0m n_nonblank \u001B[38;5;241m=\u001B[39m \u001B[38;5;28mlen\u001B[39m(\u001B[38;5;124m\"\u001B[39m\u001B[38;5;124m\"\u001B[39m\u001B[38;5;241m.\u001B[39mjoin(repr_\u001B[38;5;241m.\u001B[39msplit()))\n",
      "File \u001B[1;32m~\\AppData\\Local\\Programs\\Python\\Python310\\lib\\pprint.py:157\u001B[0m, in \u001B[0;36mPrettyPrinter.pformat\u001B[1;34m(self, object)\u001B[0m\n\u001B[0;32m    155\u001B[0m \u001B[38;5;28;01mdef\u001B[39;00m \u001B[38;5;21mpformat\u001B[39m(\u001B[38;5;28mself\u001B[39m, \u001B[38;5;28mobject\u001B[39m):\n\u001B[0;32m    156\u001B[0m     sio \u001B[38;5;241m=\u001B[39m _StringIO()\n\u001B[1;32m--> 157\u001B[0m     \u001B[38;5;28;43mself\u001B[39;49m\u001B[38;5;241;43m.\u001B[39;49m\u001B[43m_format\u001B[49m\u001B[43m(\u001B[49m\u001B[38;5;28;43mobject\u001B[39;49m\u001B[43m,\u001B[49m\u001B[43m \u001B[49m\u001B[43msio\u001B[49m\u001B[43m,\u001B[49m\u001B[43m \u001B[49m\u001B[38;5;241;43m0\u001B[39;49m\u001B[43m,\u001B[49m\u001B[43m \u001B[49m\u001B[38;5;241;43m0\u001B[39;49m\u001B[43m,\u001B[49m\u001B[43m \u001B[49m\u001B[43m{\u001B[49m\u001B[43m}\u001B[49m\u001B[43m,\u001B[49m\u001B[43m \u001B[49m\u001B[38;5;241;43m0\u001B[39;49m\u001B[43m)\u001B[49m\n\u001B[0;32m    158\u001B[0m     \u001B[38;5;28;01mreturn\u001B[39;00m sio\u001B[38;5;241m.\u001B[39mgetvalue()\n",
      "File \u001B[1;32m~\\AppData\\Local\\Programs\\Python\\Python310\\lib\\pprint.py:174\u001B[0m, in \u001B[0;36mPrettyPrinter._format\u001B[1;34m(self, object, stream, indent, allowance, context, level)\u001B[0m\n\u001B[0;32m    172\u001B[0m     \u001B[38;5;28mself\u001B[39m\u001B[38;5;241m.\u001B[39m_readable \u001B[38;5;241m=\u001B[39m \u001B[38;5;28;01mFalse\u001B[39;00m\n\u001B[0;32m    173\u001B[0m     \u001B[38;5;28;01mreturn\u001B[39;00m\n\u001B[1;32m--> 174\u001B[0m rep \u001B[38;5;241m=\u001B[39m \u001B[38;5;28;43mself\u001B[39;49m\u001B[38;5;241;43m.\u001B[39;49m\u001B[43m_repr\u001B[49m\u001B[43m(\u001B[49m\u001B[38;5;28;43mobject\u001B[39;49m\u001B[43m,\u001B[49m\u001B[43m \u001B[49m\u001B[43mcontext\u001B[49m\u001B[43m,\u001B[49m\u001B[43m \u001B[49m\u001B[43mlevel\u001B[49m\u001B[43m)\u001B[49m\n\u001B[0;32m    175\u001B[0m max_width \u001B[38;5;241m=\u001B[39m \u001B[38;5;28mself\u001B[39m\u001B[38;5;241m.\u001B[39m_width \u001B[38;5;241m-\u001B[39m indent \u001B[38;5;241m-\u001B[39m allowance\n\u001B[0;32m    176\u001B[0m \u001B[38;5;28;01mif\u001B[39;00m \u001B[38;5;28mlen\u001B[39m(rep) \u001B[38;5;241m>\u001B[39m max_width:\n",
      "File \u001B[1;32m~\\AppData\\Local\\Programs\\Python\\Python310\\lib\\pprint.py:454\u001B[0m, in \u001B[0;36mPrettyPrinter._repr\u001B[1;34m(self, object, context, level)\u001B[0m\n\u001B[0;32m    453\u001B[0m \u001B[38;5;28;01mdef\u001B[39;00m \u001B[38;5;21m_repr\u001B[39m(\u001B[38;5;28mself\u001B[39m, \u001B[38;5;28mobject\u001B[39m, context, level):\n\u001B[1;32m--> 454\u001B[0m     \u001B[38;5;28mrepr\u001B[39m, readable, recursive \u001B[38;5;241m=\u001B[39m \u001B[38;5;28;43mself\u001B[39;49m\u001B[38;5;241;43m.\u001B[39;49m\u001B[43mformat\u001B[49m\u001B[43m(\u001B[49m\u001B[38;5;28;43mobject\u001B[39;49m\u001B[43m,\u001B[49m\u001B[43m \u001B[49m\u001B[43mcontext\u001B[49m\u001B[38;5;241;43m.\u001B[39;49m\u001B[43mcopy\u001B[49m\u001B[43m(\u001B[49m\u001B[43m)\u001B[49m\u001B[43m,\u001B[49m\n\u001B[0;32m    455\u001B[0m \u001B[43m                                            \u001B[49m\u001B[38;5;28;43mself\u001B[39;49m\u001B[38;5;241;43m.\u001B[39;49m\u001B[43m_depth\u001B[49m\u001B[43m,\u001B[49m\u001B[43m \u001B[49m\u001B[43mlevel\u001B[49m\u001B[43m)\u001B[49m\n\u001B[0;32m    456\u001B[0m     \u001B[38;5;28;01mif\u001B[39;00m \u001B[38;5;129;01mnot\u001B[39;00m readable:\n\u001B[0;32m    457\u001B[0m         \u001B[38;5;28mself\u001B[39m\u001B[38;5;241m.\u001B[39m_readable \u001B[38;5;241m=\u001B[39m \u001B[38;5;28;01mFalse\u001B[39;00m\n",
      "File \u001B[1;32m~\\Обработка текстов\\lib\\site-packages\\sklearn\\utils\\_pprint.py:189\u001B[0m, in \u001B[0;36m_EstimatorPrettyPrinter.format\u001B[1;34m(self, object, context, maxlevels, level)\u001B[0m\n\u001B[0;32m    188\u001B[0m \u001B[38;5;28;01mdef\u001B[39;00m \u001B[38;5;21mformat\u001B[39m(\u001B[38;5;28mself\u001B[39m, \u001B[38;5;28mobject\u001B[39m, context, maxlevels, level):\n\u001B[1;32m--> 189\u001B[0m     \u001B[38;5;28;01mreturn\u001B[39;00m \u001B[43m_safe_repr\u001B[49m\u001B[43m(\u001B[49m\n\u001B[0;32m    190\u001B[0m \u001B[43m        \u001B[49m\u001B[38;5;28;43mobject\u001B[39;49m\u001B[43m,\u001B[49m\u001B[43m \u001B[49m\u001B[43mcontext\u001B[49m\u001B[43m,\u001B[49m\u001B[43m \u001B[49m\u001B[43mmaxlevels\u001B[49m\u001B[43m,\u001B[49m\u001B[43m \u001B[49m\u001B[43mlevel\u001B[49m\u001B[43m,\u001B[49m\u001B[43m \u001B[49m\u001B[43mchanged_only\u001B[49m\u001B[38;5;241;43m=\u001B[39;49m\u001B[38;5;28;43mself\u001B[39;49m\u001B[38;5;241;43m.\u001B[39;49m\u001B[43m_changed_only\u001B[49m\n\u001B[0;32m    191\u001B[0m \u001B[43m    \u001B[49m\u001B[43m)\u001B[49m\n",
      "File \u001B[1;32m~\\Обработка текстов\\lib\\site-packages\\sklearn\\utils\\_pprint.py:440\u001B[0m, in \u001B[0;36m_safe_repr\u001B[1;34m(object, context, maxlevels, level, changed_only)\u001B[0m\n\u001B[0;32m    438\u001B[0m recursive \u001B[38;5;241m=\u001B[39m \u001B[38;5;28;01mFalse\u001B[39;00m\n\u001B[0;32m    439\u001B[0m \u001B[38;5;28;01mif\u001B[39;00m changed_only:\n\u001B[1;32m--> 440\u001B[0m     params \u001B[38;5;241m=\u001B[39m \u001B[43m_changed_params\u001B[49m\u001B[43m(\u001B[49m\u001B[38;5;28;43mobject\u001B[39;49m\u001B[43m)\u001B[49m\n\u001B[0;32m    441\u001B[0m \u001B[38;5;28;01melse\u001B[39;00m:\n\u001B[0;32m    442\u001B[0m     params \u001B[38;5;241m=\u001B[39m \u001B[38;5;28mobject\u001B[39m\u001B[38;5;241m.\u001B[39mget_params(deep\u001B[38;5;241m=\u001B[39m\u001B[38;5;28;01mFalse\u001B[39;00m)\n",
      "File \u001B[1;32m~\\Обработка текстов\\lib\\site-packages\\sklearn\\utils\\_pprint.py:93\u001B[0m, in \u001B[0;36m_changed_params\u001B[1;34m(estimator)\u001B[0m\n\u001B[0;32m     89\u001B[0m \u001B[38;5;28;01mdef\u001B[39;00m \u001B[38;5;21m_changed_params\u001B[39m(estimator):\n\u001B[0;32m     90\u001B[0m     \u001B[38;5;124;03m\"\"\"Return dict (param_name: value) of parameters that were given to\u001B[39;00m\n\u001B[0;32m     91\u001B[0m \u001B[38;5;124;03m    estimator with non-default values.\"\"\"\u001B[39;00m\n\u001B[1;32m---> 93\u001B[0m     params \u001B[38;5;241m=\u001B[39m \u001B[43mestimator\u001B[49m\u001B[38;5;241;43m.\u001B[39;49m\u001B[43mget_params\u001B[49m\u001B[43m(\u001B[49m\u001B[43mdeep\u001B[49m\u001B[38;5;241;43m=\u001B[39;49m\u001B[38;5;28;43;01mFalse\u001B[39;49;00m\u001B[43m)\u001B[49m\n\u001B[0;32m     94\u001B[0m     init_func \u001B[38;5;241m=\u001B[39m \u001B[38;5;28mgetattr\u001B[39m(estimator\u001B[38;5;241m.\u001B[39m\u001B[38;5;21m__init__\u001B[39m, \u001B[38;5;124m\"\u001B[39m\u001B[38;5;124mdeprecated_original\u001B[39m\u001B[38;5;124m\"\u001B[39m, estimator\u001B[38;5;241m.\u001B[39m\u001B[38;5;21m__init__\u001B[39m)\n\u001B[0;32m     95\u001B[0m     init_params \u001B[38;5;241m=\u001B[39m inspect\u001B[38;5;241m.\u001B[39msignature(init_func)\u001B[38;5;241m.\u001B[39mparameters\n",
      "File \u001B[1;32m~\\Обработка текстов\\lib\\site-packages\\sklearn\\base.py:210\u001B[0m, in \u001B[0;36mBaseEstimator.get_params\u001B[1;34m(self, deep)\u001B[0m\n\u001B[0;32m    208\u001B[0m out \u001B[38;5;241m=\u001B[39m \u001B[38;5;28mdict\u001B[39m()\n\u001B[0;32m    209\u001B[0m \u001B[38;5;28;01mfor\u001B[39;00m key \u001B[38;5;129;01min\u001B[39;00m \u001B[38;5;28mself\u001B[39m\u001B[38;5;241m.\u001B[39m_get_param_names():\n\u001B[1;32m--> 210\u001B[0m     value \u001B[38;5;241m=\u001B[39m \u001B[38;5;28;43mgetattr\u001B[39;49m\u001B[43m(\u001B[49m\u001B[38;5;28;43mself\u001B[39;49m\u001B[43m,\u001B[49m\u001B[43m \u001B[49m\u001B[43mkey\u001B[49m\u001B[43m)\u001B[49m\n\u001B[0;32m    211\u001B[0m     \u001B[38;5;28;01mif\u001B[39;00m deep \u001B[38;5;129;01mand\u001B[39;00m \u001B[38;5;28mhasattr\u001B[39m(value, \u001B[38;5;124m\"\u001B[39m\u001B[38;5;124mget_params\u001B[39m\u001B[38;5;124m\"\u001B[39m):\n\u001B[0;32m    212\u001B[0m         deep_items \u001B[38;5;241m=\u001B[39m value\u001B[38;5;241m.\u001B[39mget_params()\u001B[38;5;241m.\u001B[39mitems()\n",
      "\u001B[1;31mAttributeError\u001B[0m: 'CRF' object has no attribute 'keep_tempfiles'"
     ]
    }
   ],
   "source": [
    "import sklearn_crfsuite\n",
    "\n",
    "# обучение модельки\n",
    "crf = sklearn_crfsuite.CRF(\n",
    "    algorithm='lbfgs',\n",
    "    c1=0.1,\n",
    "    c2=0.1,\n",
    "    max_iterations=100,\n",
    "    all_possible_transitions=True\n",
    ")\n",
    "\n",
    "crf.fit(train_set, train_set_pos)"
   ],
   "metadata": {
    "collapsed": false,
    "pycharm": {
     "name": "#%%time\n"
    }
   }
  },
  {
   "cell_type": "code",
   "execution_count": 71,
   "outputs": [
    {
     "data": {
      "text/plain": "[['PREP', 'ADJF', 'NOUN', 'PNCT', 'ADJF', 'NOUN', 'PNCT']]"
     },
     "execution_count": 71,
     "metadata": {},
     "output_type": "execute_result"
    }
   ],
   "source": [
    "test_sentence = [\"Вот\", \"это\", \"да\", \",\", \"восстание\", \"машин\", \"!\"]\n",
    "\n",
    "test_features = [\n",
    "    [get_features(test_sentence, ind) for ind in range(len(test_sentence))]\n",
    "]\n",
    "\n",
    "crf.predict(test_features)"
   ],
   "metadata": {
    "collapsed": false,
    "pycharm": {
     "name": "#%%\n"
    }
   }
  },
  {
   "cell_type": "code",
   "execution_count": 37,
   "outputs": [
    {
     "name": "stdout",
     "output_type": "stream",
     "text": [
      "(('LATN', 'LATN'), 3.040295)\n",
      "(('INTJ', 'PNCT'), 2.962795)\n",
      "(('COMP', 'GRND'), 2.643911)\n",
      "(('ADJF', 'NOUN'), 2.635062)\n",
      "(('INTJ', 'NPRO'), 2.632411)\n",
      "---\n",
      "(('PREP', 'COMP'), -3.169883)\n",
      "(('PREP', 'INFN'), -3.455233)\n",
      "(('PREP', 'PRCL'), -4.263306)\n",
      "(('VERB', 'VERB'), -4.451824)\n",
      "(('PREP', 'VERB'), -4.594209)\n"
     ]
    }
   ],
   "source": [
    "from collections import Counter\n",
    "\n",
    "# смотрю самые большие и маленькие веса\n",
    "cnt = Counter(crf.transition_features_)\n",
    "for p in cnt.most_common()[:5]:\n",
    "    print(p)\n",
    "\n",
    "print(\"---\")\n",
    "\n",
    "for p in cnt.most_common()[-5:]:\n",
    "    print(p)"
   ],
   "metadata": {
    "collapsed": false,
    "pycharm": {
     "name": "#%%\n"
    }
   }
  },
  {
   "cell_type": "code",
   "execution_count": 73,
   "outputs": [
    {
     "name": "stdout",
     "output_type": "stream",
     "text": [
      "              precision    recall  f1-score   support\n",
      "\n",
      "        NOUN      0.871     0.904     0.887      3575\n",
      "        ADJF      0.789     0.884     0.834       921\n",
      "        VERB      0.860     0.943     0.900      1069\n",
      "        PREP      0.923     0.951     0.937       893\n",
      "        ADVB      0.542     0.472     0.505       271\n",
      "\n",
      "   micro avg      0.853     0.896     0.874      6729\n",
      "   macro avg      0.797     0.831     0.812      6729\n",
      "weighted avg      0.851     0.896     0.873      6729\n",
      "\n"
     ]
    }
   ],
   "source": [
    "from sklearn import metrics\n",
    "import itertools\n",
    "\n",
    "# определяю точность классификации\n",
    "# itertools.chain чтобы сделать список плоским\n",
    "prep_true = list(itertools.chain(*test_set_pos))\n",
    "prep_pred = list(itertools.chain(*crf.predict(test_set)))\n",
    "\n",
    "print(metrics.classification_report(prep_true, prep_pred, labels=['NOUN', 'ADJF', 'VERB', 'PREP', 'ADVB'], digits=3))"
   ],
   "metadata": {
    "collapsed": false,
    "pycharm": {
     "name": "#%%\n"
    }
   }
  }
 ],
 "metadata": {
  "kernelspec": {
   "display_name": "Python 3",
   "language": "python",
   "name": "python3"
  },
  "language_info": {
   "codemirror_mode": {
    "name": "ipython",
    "version": 2
   },
   "file_extension": ".py",
   "mimetype": "text/x-python",
   "name": "python",
   "nbconvert_exporter": "python",
   "pygments_lexer": "ipython2",
   "version": "2.7.6"
  }
 },
 "nbformat": 4,
 "nbformat_minor": 0
}