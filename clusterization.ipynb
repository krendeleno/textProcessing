{
 "cells": [
  {
   "cell_type": "code",
   "execution_count": 206,
   "metadata": {
    "collapsed": true
   },
   "outputs": [
    {
     "name": "stdout",
     "output_type": "stream",
     "text": [
      "['роджер', 'желязны', 'имя', 'мне', 'легион', 'содержание', 'кпк', 'роджер', 'желязны', 'имя']\n"
     ]
    }
   ],
   "source": [
    "from urllib.request import urlopen\n",
    "import re\n",
    "from nltk.tokenize import word_tokenize\n",
    "\n",
    "# открываю текст по url\n",
    "html = urlopen(\"http://lib.ru/ZELQZNY/legion.txt\")\n",
    "text = \" \".join([re.sub('[^А-Яа-я.!?]', \" \", line.decode(html.headers.get_content_charset())) for line in html])\n",
    "words = word_tokenize(re.sub('[,:;.!?]', \" \", text.lower()));\n",
    "\n",
    "print(words[:10])"
   ]
  },
  {
   "cell_type": "code",
   "execution_count": 207,
   "outputs": [
    {
     "name": "stdout",
     "output_type": "stream",
     "text": [
      "['имя мне легион проект румоко я был в пультовой когда', 'искры помимо всего прочего находился я там потому что надо', 'ветер и волны тряхнули аквину я вспомнил что проект румоко', 'к завершению и принял решение я пересек каюту и снял', 'валяйте дурака сказал доктор асквит я изучал цепи вы решили', 'решили заняться им сами спросил я доктора конечно нет я', 'спросил я доктора конечно нет я и знать не знаю', 'скажите кто им займется продолжал я капсула управляется отсюда а', 'за ним в противном случае я попробую исправить это сам', 'сам тогда он заткнулся а я стал выяснять где какое']\n"
     ]
    }
   ],
   "source": [
    "# конструирую контексты\n",
    "context_list = [\" \".join(words[ind - 5: ind + 5]) for ind in range(4, len(words) - 5) if words[ind] == \"я\"]\n",
    "\n",
    "print(context_list[:10])"
   ],
   "metadata": {
    "collapsed": false,
    "pycharm": {
     "name": "#%%\n"
    }
   }
  },
  {
   "cell_type": "code",
   "execution_count": 208,
   "outputs": [],
   "source": [
    "from sklearn.feature_extraction.text import TfidfVectorizer\n",
    "\n",
    "# делаю матрицу tf-idf\n",
    "vectorizer = TfidfVectorizer()\n",
    "X = vectorizer.fit_transform(context_list)\n",
    "tf_idf_matrix = X.toarray()"
   ],
   "metadata": {
    "collapsed": false,
    "pycharm": {
     "name": "#%%\n"
    }
   }
  },
  {
   "cell_type": "code",
   "execution_count": 209,
   "outputs": [],
   "source": [
    "from sklearn.preprocessing import StandardScaler\n",
    "\n",
    "# нормализую данные\n",
    "scaler = StandardScaler()\n",
    "matrix_scaled = scaler.fit_transform(tf_idf_matrix)"
   ],
   "metadata": {
    "collapsed": false,
    "pycharm": {
     "name": "#%%\n"
    }
   }
  },
  {
   "cell_type": "code",
   "execution_count": 210,
   "outputs": [],
   "source": [
    "from sklearn.decomposition import PCA\n",
    "\n",
    "# уменьшаю размерность до 20 через PCA\n",
    "pca = PCA(20)\n",
    "matrix_scaled_20 = pca.fit_transform(matrix_scaled)"
   ],
   "metadata": {
    "collapsed": false,
    "pycharm": {
     "name": "#%%\n"
    }
   }
  },
  {
   "cell_type": "code",
   "execution_count": 211,
   "outputs": [
    {
     "name": "stdout",
     "output_type": "stream",
     "text": [
      "[0 0 0 ... 0 0 0]\n"
     ]
    }
   ],
   "source": [
    "from sklearn.cluster import KMeans\n",
    "\n",
    "# кластеризую\n",
    "k = 3\n",
    "kmeans = KMeans(k) # если честно число 4 выбрано на рандоме, можно как-то настроить чтобы автоматически бралось?\n",
    "clusters = kmeans.fit_predict(matrix_scaled_20)\n",
    "print(clusters)"
   ],
   "metadata": {
    "collapsed": false,
    "pycharm": {
     "name": "#%%\n"
    }
   }
  },
  {
   "cell_type": "code",
   "execution_count": 212,
   "outputs": [
    {
     "data": {
      "text/plain": "<Figure size 432x288 with 1 Axes>",
      "image/png": "[encoded data removed]"
     },
     "metadata": {
      "needs_background": "light"
     },
     "output_type": "display_data"
    }
   ],
   "source": [
    "from matplotlib import pyplot as pp\n",
    "\n",
    "# визуализирую данные\n",
    "scaler_2 = StandardScaler()\n",
    "pca_2 = PCA(2)\n",
    "\n",
    "matrix_scaled_2 = scaler_2.fit_transform(tf_idf_matrix)\n",
    "matrix_2 = pca_2.fit_transform(matrix_scaled_2)\n",
    "\n",
    "for cls_ind in range(k):\n",
    "    cls = matrix_2[clusters == cls_ind, :]\n",
    "    pp.plot(cls[:, 0], cls[:, 1], 'o')\n"
   ],
   "metadata": {
    "collapsed": false,
    "pycharm": {
     "name": "#%%\n"
    }
   }
  }
 ],
 "metadata": {
  "kernelspec": {
   "display_name": "Python 3",
   "language": "python",
   "name": "python3"
  },
  "language_info": {
   "codemirror_mode": {
    "name": "ipython",
    "version": 2
   },
   "file_extension": ".py",
   "mimetype": "text/x-python",
   "name": "python",
   "nbconvert_exporter": "python",
   "pygments_lexer": "ipython2",
   "version": "2.7.6"
  }
 },
 "nbformat": 4,
 "nbformat_minor": 0
}