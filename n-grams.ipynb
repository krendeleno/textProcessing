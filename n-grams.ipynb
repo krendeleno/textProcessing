{
 "cells": [
  {
   "cell_type": "code",
   "execution_count": 60,
   "outputs": [],
   "source": [
    "from urllib.request import urlopen\n",
    "\n",
    "# открываю текст по url\n",
    "html = urlopen(\"http://lib.ru/ZELQZNY/zheliazny_hronomaster.txt\")"
   ],
   "metadata": {
    "collapsed": false,
    "pycharm": {
     "name": "#%%\n"
    }
   }
  },
  {
   "cell_type": "code",
   "execution_count": 61,
   "outputs": [],
   "source": [
    "import re\n",
    "text = \" \".join([re.sub('[^А-Яа-я.!?]', \" \", line.decode(html.headers.get_content_charset())) for line in html])"
   ],
   "metadata": {
    "collapsed": false,
    "pycharm": {
     "name": "#%%\n"
    }
   }
  },
  {
   "cell_type": "code",
   "execution_count": 62,
   "outputs": [],
   "source": [
    "from nltk.lm.preprocessing import padded_everygram_pipeline\n",
    "from nltk.tokenize import sent_tokenize, word_tokenize\n",
    "\n",
    "sentences = [word_tokenize(re.sub('[,:;.!?]', \" \", sent.lower())) for sent in sent_tokenize(text)]\n",
    "n = 2\n",
    "n_grams, words = padded_everygram_pipeline(n, sentences)"
   ],
   "metadata": {
    "collapsed": false,
    "pycharm": {
     "name": "#%%\n"
    }
   }
  },
  {
   "cell_type": "code",
   "execution_count": 65,
   "outputs": [
    {
     "name": "stdout",
     "output_type": "stream",
     "text": [
      "MLE - 0\n",
      "Lidstone лямбда 0.1 - 0.0006999236446933062\n",
      "Lidstone лямбда 1 - 0.0001315529829638887\n"
     ]
    }
   ],
   "source": [
    "from nltk.lm import MLE\n",
    "\n",
    "modelMLE = MLE(n)\n",
    "modelMLE.fit(n_grams, words)\n",
    "print(f'MLE - {modelMLE.score(\"замечательно\", [\"просто\"])}')\n",
    "\n",
    "from nltk.lm import Lidstone\n",
    "\n",
    "def lidstones(l):\n",
    "    n_grams_lidstone, words_lidstone = padded_everygram_pipeline(n, sentences)\n",
    "    model_lidstone = Lidstone(l, n)\n",
    "    model_lidstone.fit(n_grams_lidstone, words_lidstone)\n",
    "    print(f'Lidstone лямбда {l} - {model_lidstone.score(\"замечательно\", [\"просто\"])}')\n",
    "\n",
    "lidstones(0.1)\n",
    "lidstones(1)"
   ],
   "metadata": {
    "collapsed": false,
    "pycharm": {
     "name": "#%%\n"
    }
   }
  },
  {
   "cell_type": "code",
   "execution_count": 64,
   "outputs": [
    {
     "name": "stdout",
     "output_type": "stream",
     "text": [
      "Lidstone лямбда = 0.01, n = 1\n",
      "5193.825311782082\n",
      "--------------------\n",
      "Lidstone лямбда = 0.01, n = 2\n",
      "1503.5404780230067\n",
      "--------------------\n",
      "Lidstone лямбда = 0.01, n = 3\n",
      "1991.6441580366393\n",
      "--------------------\n",
      "Lidstone лямбда = 0.01, n = 4\n",
      "2159.9373151488\n",
      "--------------------\n",
      "Lidstone лямбда = 0.01, n = 5\n",
      "2218.764583709454\n",
      "--------------------\n",
      "Lidstone лямбда = 0.05, n = 1\n",
      "3557.1005962829813\n",
      "--------------------\n",
      "Lidstone лямбда = 0.05, n = 2\n",
      "1753.8608186768924\n",
      "--------------------\n",
      "Lidstone лямбда = 0.05, n = 3\n",
      "2468.2746450106533\n",
      "--------------------\n",
      "Lidstone лямбда = 0.05, n = 4\n",
      "2637.0226655462334\n",
      "--------------------\n",
      "Lidstone лямбда = 0.05, n = 5\n",
      "2702.346079537439\n",
      "--------------------\n",
      "Lidstone лямбда = 0.1, n = 1\n",
      "3040.534526131875\n",
      "--------------------\n",
      "Lidstone лямбда = 0.1, n = 2\n",
      "1983.9910775091398\n",
      "--------------------\n",
      "Lidstone лямбда = 0.1, n = 3\n",
      "2734.5002797489783\n",
      "--------------------\n",
      "Lidstone лямбда = 0.1, n = 4\n",
      "2896.0618149195825\n",
      "--------------------\n",
      "Lidstone лямбда = 0.1, n = 5\n",
      "2962.3547340701302\n",
      "--------------------\n",
      "Lidstone лямбда = 0.2, n = 1\n",
      "2623.011995535021\n",
      "--------------------\n",
      "Lidstone лямбда = 0.2, n = 2\n",
      "2295.655829241263\n",
      "--------------------\n",
      "Lidstone лямбда = 0.2, n = 3\n",
      "3039.7793120674937\n",
      "--------------------\n",
      "Lidstone лямбда = 0.2, n = 4\n",
      "3189.4936266356062\n",
      "--------------------\n",
      "Lidstone лямбда = 0.2, n = 5\n",
      "3254.9019512247287\n",
      "--------------------\n",
      "Lidstone лямбда = 0.5, n = 1\n",
      "2222.3628510191343\n",
      "--------------------\n",
      "Lidstone лямбда = 0.5, n = 2\n",
      "2823.0817086528014\n",
      "--------------------\n",
      "Lidstone лямбда = 0.5, n = 3\n",
      "3491.7171985660916\n",
      "--------------------\n",
      "Lidstone лямбда = 0.5, n = 4\n",
      "3618.244299878606\n",
      "--------------------\n",
      "Lidstone лямбда = 0.5, n = 5\n",
      "3678.5535056132335\n",
      "--------------------\n",
      "Lidstone лямбда = 1, n = 1\n",
      "2045.4922782692206\n",
      "--------------------\n",
      "Lidstone лямбда = 1, n = 2\n",
      "3276.259601968999\n",
      "--------------------\n",
      "Lidstone лямбда = 1, n = 3\n",
      "3842.935233470275\n",
      "--------------------\n",
      "Lidstone лямбда = 1, n = 4\n",
      "3947.270136595743\n",
      "--------------------\n",
      "Lidstone лямбда = 1, n = 5\n",
      "4000.516289411464\n",
      "--------------------\n",
      "Lidstone лямбда = 2, n = 1\n",
      "1996.7231160284064\n",
      "--------------------\n",
      "Lidstone лямбда = 2, n = 2\n",
      "3727.0459274766326\n",
      "--------------------\n",
      "Lidstone лямбда = 2, n = 3\n",
      "4168.860231114946\n",
      "--------------------\n",
      "Lidstone лямбда = 2, n = 4\n",
      "4249.59319136246\n",
      "--------------------\n",
      "Lidstone лямбда = 2, n = 5\n",
      "4293.7489329119335\n",
      "--------------------\n",
      "Lidstone лямбда = 5, n = 1\n",
      "2156.7575986599627\n",
      "--------------------\n",
      "Lidstone лямбда = 5, n = 2\n",
      "4245.035024198923\n",
      "--------------------\n",
      "Lidstone лямбда = 5, n = 3\n",
      "4523.314613275107\n",
      "--------------------\n",
      "Lidstone лямбда = 5, n = 4\n",
      "4575.623497066944\n",
      "--------------------\n",
      "Lidstone лямбда = 5, n = 5\n",
      "4606.872267584073\n",
      "--------------------\n",
      "Победитель!\n",
      "Lidstone лямбда = 0.01, n = 2\n",
      "66.78120930414185\n",
      "--------------------\n"
     ]
    }
   ],
   "source": [
    "from nltk.lm import KneserNeyInterpolated\n",
    "from nltk.lm.preprocessing import pad_both_ends\n",
    "from nltk.util import ngrams\n",
    "import math\n",
    "import random\n",
    "\n",
    "random.shuffle(sentences)\n",
    "train_set = sentences[math.floor(len(sentences) * 0.8):]\n",
    "validation_set = sentences[math.floor(len(sentences) * 0.8):math.floor(len(sentences) * 0.9)]\n",
    "test_set = sentences[:math.floor(len(sentences) * 0.9)]\n",
    "best_model = {\n",
    "    'perplexity': None,\n",
    "    'n' : None,\n",
    "    'lambda' : None,\n",
    "    'name' : None\n",
    "}\n",
    "\n",
    "def test_models(model_name: str, l: float, n_size: int, flag_test: bool = False) -> None:\n",
    "    global perplexity\n",
    "    n_grams_train, words_train = padded_everygram_pipeline(n_size, train_set)\n",
    "    current_set = test_set if flag_test else validation_set\n",
    "    n_grams = [ngrams(pad_both_ends(sent, n_size), n_size) for sent in current_set]\n",
    "    n_grams_flat = [item for sublist in n_grams for item in sublist]\n",
    "    print(f'{model_name} лямбда = {l}, n = {n_size}')\n",
    "\n",
    "    if (model_name == \"Lidstone\"):\n",
    "        model_lidstone = Lidstone(l, n_size)\n",
    "        model_lidstone.fit(n_grams_train, words_train)\n",
    "        perplexity = model_lidstone.perplexity(n_grams_flat)\n",
    "\n",
    "    if (model_name == \"Kneser-Ney\"):\n",
    "        model_kneserney = KneserNeyInterpolated(n_size, l)\n",
    "        model_kneserney.fit(n_grams_train, words_train)\n",
    "        perplexity = model_kneserney.perplexity(n_grams_flat)\n",
    "\n",
    "    if not(best_model['perplexity']) or perplexity < best_model['perplexity']:\n",
    "        best_model['perplexity'] = perplexity\n",
    "        best_model['n'] = n_size\n",
    "        best_model['lambda'] = l\n",
    "        best_model['name'] = model_name\n",
    "\n",
    "    print(perplexity)\n",
    "    print('--------------------')\n",
    "\n",
    "n_list = [1, 2, 3, 4, 5]\n",
    "[test_models('Lidstone', l, n_var) for l in [0.01, 0.05, 0.1, 0.2, 0.5, 1, 2, 5] for n_var in n_list]\n",
    "[test_models('Kneser-Ney', l, n_var) for l in [0.0, 0.02, 0.05, 0.1, 0.2, 0.5, 0.95, 0.99] for n_var in n_list]\n",
    "\n",
    "print('Победитель!')\n",
    "test_models(best_model['name'], best_model['lambda'], best_model['n'], True)"
   ],
   "metadata": {
    "collapsed": false,
    "pycharm": {
     "name": "#%%\n"
    }
   }
  }
 ],
 "metadata": {
  "kernelspec": {
   "display_name": "Python 3",
   "language": "python",
   "name": "python3"
  },
  "language_info": {
   "codemirror_mode": {
    "name": "ipython",
    "version": 2
   },
   "file_extension": ".py",
   "mimetype": "text/x-python",
   "name": "python",
   "nbconvert_exporter": "python",
   "pygments_lexer": "ipython2",
   "version": "2.7.6"
  }
 },
 "nbformat": 4,
 "nbformat_minor": 0
}