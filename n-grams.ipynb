{
 "cells": [
  {
   "cell_type": "code",
   "execution_count": 1,
   "outputs": [],
   "source": [
    "from urllib.request import urlopen\n",
    "\n",
    "# открываю текст по url\n",
    "html = urlopen(\"http://lib.ru/ZELQZNY/zheliazny_hronomaster.txt\")"
   ],
   "metadata": {
    "collapsed": false,
    "pycharm": {
     "name": "#%%\n"
    }
   }
  },
  {
   "cell_type": "code",
   "execution_count": 2,
   "outputs": [],
   "source": [
    "import re\n",
    "text = \" \".join([re.sub('[^А-Яа-я.!?]', \" \", line.decode(html.headers.get_content_charset())) for line in html])"
   ],
   "metadata": {
    "collapsed": false,
    "pycharm": {
     "name": "#%%\n"
    }
   }
  },
  {
   "cell_type": "code",
   "execution_count": 3,
   "outputs": [],
   "source": [
    "import nltk\n",
    "from nltk.lm.preprocessing import padded_everygram_pipeline\n",
    "from nltk.tokenize import sent_tokenize, word_tokenize\n",
    "\n",
    "sentences = list(word_tokenize(re.sub('[,:;.!?]', \" \", sent.lower())) for sent in sent_tokenize(text))\n",
    "n = 2\n",
    "n_grams, words = padded_everygram_pipeline(n, sentences)"
   ],
   "metadata": {
    "collapsed": false,
    "pycharm": {
     "name": "#%%\n"
    }
   }
  },
  {
   "cell_type": "code",
   "execution_count": 4,
   "outputs": [
    {
     "name": "stdout",
     "output_type": "stream",
     "text": [
      "MLE - 0.017543859649122806\n",
      "Lidstone лямбда 0.1 - 0.0006999236446933062\n",
      "Lidstone лямбда 1 - 0.0001315529829638887\n"
     ]
    }
   ],
   "source": [
    "from nltk.lm import MLE\n",
    "\n",
    "modelMLE = MLE(n)\n",
    "modelMLE.fit(n_grams, words)\n",
    "print(f'MLE - {modelMLE.score(\"замечательно\", [\"просто\"])}')\n",
    "\n",
    "from nltk.lm import Lidstone\n",
    "\n",
    "def lidstones(l):\n",
    "    n_grams_lidstone, words_lidstone = padded_everygram_pipeline(n, sentences)\n",
    "    model_lidstone = Lidstone(l, n)\n",
    "    model_lidstone.fit(n_grams_lidstone, words_lidstone)\n",
    "    print(f'Lidstone лямбда {l} - {model_lidstone.score(\"замечательно\", [\"просто\"])}')\n",
    "\n",
    "lidstones(0.1)\n",
    "lidstones(1)"
   ],
   "metadata": {
    "collapsed": false,
    "pycharm": {
     "name": "#%%\n"
    }
   }
  },
  {
   "cell_type": "code",
   "execution_count": 6,
   "outputs": [
    {
     "name": "stdout",
     "output_type": "stream",
     "text": [
      "Lidstone лямбда = 0.01, n = 1\n",
      "5202.236208151609\n",
      "--------------------\n",
      "Lidstone лямбда = 0.01, n = 2\n",
      "2322.6032226849584\n",
      "--------------------\n",
      "Lidstone лямбда = 0.01, n = 3\n",
      "4750.31892481472\n",
      "--------------------\n",
      "Lidstone лямбда = 0.01, n = 4\n",
      "5930.986876399476\n",
      "--------------------\n",
      "Lidstone лямбда = 0.01, n = 5\n",
      "6375.349653068938\n",
      "--------------------\n",
      "Lidstone лямбда = 0.05, n = 1\n",
      "4102.020432534858\n",
      "--------------------\n",
      "Lidstone лямбда = 0.05, n = 2\n",
      "2843.641206729766\n",
      "--------------------\n",
      "Lidstone лямбда = 0.05, n = 3\n",
      "5723.1586476774855\n",
      "--------------------\n",
      "Lidstone лямбда = 0.05, n = 4\n",
      "6779.390375809064\n",
      "--------------------\n",
      "Lidstone лямбда = 0.05, n = 5\n",
      "7182.529234467689\n",
      "--------------------\n",
      "Lidstone лямбда = 0.1, n = 1\n",
      "3714.5953618434232\n",
      "--------------------\n",
      "Lidstone лямбда = 0.1, n = 2\n",
      "3298.0199405207522\n",
      "--------------------\n",
      "Lidstone лямбда = 0.1, n = 3\n",
      "6274.19631574462\n",
      "--------------------\n",
      "Lidstone лямбда = 0.1, n = 4\n",
      "7246.451440116745\n",
      "--------------------\n",
      "Lidstone лямбда = 0.1, n = 5\n",
      "7624.434569233477\n",
      "--------------------\n",
      "Lidstone лямбда = 0.2, n = 1\n",
      "3380.411466839548\n",
      "--------------------\n",
      "Lidstone лямбда = 0.2, n = 2\n",
      "3929.8209924794687\n",
      "--------------------\n",
      "Lidstone лямбда = 0.2, n = 3\n",
      "6912.038040529907\n",
      "--------------------\n",
      "Lidstone лямбда = 0.2, n = 4\n",
      "7783.056990593012\n",
      "--------------------\n",
      "Lidstone лямбда = 0.2, n = 5\n",
      "8130.648070128709\n",
      "--------------------\n",
      "Lidstone лямбда = 0.5, n = 1\n",
      "3036.1327971521023\n",
      "--------------------\n",
      "Lidstone лямбда = 0.5, n = 2\n",
      "5070.657758376106\n",
      "--------------------\n",
      "Lidstone лямбда = 0.5, n = 3\n",
      "7889.0603638644625\n",
      "--------------------\n",
      "Lidstone лямбда = 0.5, n = 4\n",
      "8603.317508613834\n",
      "--------------------\n",
      "Lidstone лямбда = 0.5, n = 5\n",
      "8902.24308301762\n",
      "--------------------\n",
      "Lidstone лямбда = 1, n = 1\n",
      "2878.33624384884\n",
      "--------------------\n",
      "Lidstone лямбда = 1, n = 2\n",
      "6151.118860920862\n",
      "--------------------\n",
      "Lidstone лямбда = 1, n = 3\n",
      "8703.506163017017\n",
      "--------------------\n",
      "Lidstone лямбда = 1, n = 4\n",
      "9288.687309690458\n",
      "--------------------\n",
      "Lidstone лямбда = 1, n = 5\n",
      "9545.416319195927\n",
      "--------------------\n",
      "Lidstone лямбда = 2, n = 1\n",
      "2854.8863272181725\n",
      "--------------------\n",
      "Lidstone лямбда = 2, n = 2\n",
      "7354.57289200374\n",
      "--------------------\n",
      "Lidstone лямбда = 2, n = 3\n",
      "9531.847731854914\n",
      "--------------------\n",
      "Lidstone лямбда = 2, n = 4\n",
      "9989.151463827582\n",
      "--------------------\n",
      "Lidstone лямбда = 2, n = 5\n",
      "10201.673158223599\n",
      "--------------------\n",
      "Lidstone лямбда = 5, n = 1\n",
      "3131.141403743343\n",
      "--------------------\n",
      "Lidstone лямбда = 5, n = 2\n",
      "8967.70150033736\n",
      "--------------------\n",
      "Lidstone лямбда = 5, n = 3\n",
      "10555.477381434397\n",
      "--------------------\n",
      "Lidstone лямбда = 5, n = 4\n",
      "10862.823155026705\n",
      "--------------------\n",
      "Lidstone лямбда = 5, n = 5\n",
      "11019.171636670795\n",
      "--------------------\n",
      "Kneser-Ney лямбда = 0.01, n = 1\n"
     ]
    },
    {
     "ename": "ZeroDivisionError",
     "evalue": "division by zero",
     "output_type": "error",
     "traceback": [
      "\u001B[1;31m---------------------------------------------------------------------------\u001B[0m",
      "\u001B[1;31mZeroDivisionError\u001B[0m                         Traceback (most recent call last)",
      "Input \u001B[1;32mIn [6]\u001B[0m, in \u001B[0;36m<cell line: 47>\u001B[1;34m()\u001B[0m\n\u001B[0;32m     45\u001B[0m n_list \u001B[38;5;241m=\u001B[39m [\u001B[38;5;241m1\u001B[39m, \u001B[38;5;241m2\u001B[39m, \u001B[38;5;241m3\u001B[39m, \u001B[38;5;241m4\u001B[39m, \u001B[38;5;241m5\u001B[39m]\n\u001B[0;32m     46\u001B[0m [test_models(\u001B[38;5;124m'\u001B[39m\u001B[38;5;124mLidstone\u001B[39m\u001B[38;5;124m'\u001B[39m, l, n_var) \u001B[38;5;28;01mfor\u001B[39;00m l \u001B[38;5;129;01min\u001B[39;00m [\u001B[38;5;241m0.01\u001B[39m, \u001B[38;5;241m0.05\u001B[39m, \u001B[38;5;241m0.1\u001B[39m, \u001B[38;5;241m0.2\u001B[39m, \u001B[38;5;241m0.5\u001B[39m, \u001B[38;5;241m1\u001B[39m, \u001B[38;5;241m2\u001B[39m, \u001B[38;5;241m5\u001B[39m] \u001B[38;5;28;01mfor\u001B[39;00m n_var \u001B[38;5;129;01min\u001B[39;00m n_list]\n\u001B[1;32m---> 47\u001B[0m [test_models(\u001B[38;5;124m'\u001B[39m\u001B[38;5;124mKneser-Ney\u001B[39m\u001B[38;5;124m'\u001B[39m, l, n_var) \u001B[38;5;28;01mfor\u001B[39;00m l \u001B[38;5;129;01min\u001B[39;00m [\u001B[38;5;241m0.01\u001B[39m, \u001B[38;5;241m0.02\u001B[39m, \u001B[38;5;241m0.05\u001B[39m, \u001B[38;5;241m0.1\u001B[39m, \u001B[38;5;241m0.2\u001B[39m, \u001B[38;5;241m0.5\u001B[39m, \u001B[38;5;241m0.95\u001B[39m, \u001B[38;5;241m0.99\u001B[39m] \u001B[38;5;28;01mfor\u001B[39;00m n_var \u001B[38;5;129;01min\u001B[39;00m n_list]\n\u001B[0;32m     49\u001B[0m \u001B[38;5;28mprint\u001B[39m(\u001B[38;5;124m'\u001B[39m\u001B[38;5;124mПобедитель!\u001B[39m\u001B[38;5;124m'\u001B[39m)\n\u001B[0;32m     50\u001B[0m test_models(best_model[\u001B[38;5;124m'\u001B[39m\u001B[38;5;124mname\u001B[39m\u001B[38;5;124m'\u001B[39m], best_model[\u001B[38;5;124m'\u001B[39m\u001B[38;5;124mlambda\u001B[39m\u001B[38;5;124m'\u001B[39m], best_model[\u001B[38;5;124m'\u001B[39m\u001B[38;5;124mn\u001B[39m\u001B[38;5;124m'\u001B[39m], \u001B[38;5;28;01mTrue\u001B[39;00m)\n",
      "Input \u001B[1;32mIn [6]\u001B[0m, in \u001B[0;36m<listcomp>\u001B[1;34m(.0)\u001B[0m\n\u001B[0;32m     45\u001B[0m n_list \u001B[38;5;241m=\u001B[39m [\u001B[38;5;241m1\u001B[39m, \u001B[38;5;241m2\u001B[39m, \u001B[38;5;241m3\u001B[39m, \u001B[38;5;241m4\u001B[39m, \u001B[38;5;241m5\u001B[39m]\n\u001B[0;32m     46\u001B[0m [test_models(\u001B[38;5;124m'\u001B[39m\u001B[38;5;124mLidstone\u001B[39m\u001B[38;5;124m'\u001B[39m, l, n_var) \u001B[38;5;28;01mfor\u001B[39;00m l \u001B[38;5;129;01min\u001B[39;00m [\u001B[38;5;241m0.01\u001B[39m, \u001B[38;5;241m0.05\u001B[39m, \u001B[38;5;241m0.1\u001B[39m, \u001B[38;5;241m0.2\u001B[39m, \u001B[38;5;241m0.5\u001B[39m, \u001B[38;5;241m1\u001B[39m, \u001B[38;5;241m2\u001B[39m, \u001B[38;5;241m5\u001B[39m] \u001B[38;5;28;01mfor\u001B[39;00m n_var \u001B[38;5;129;01min\u001B[39;00m n_list]\n\u001B[1;32m---> 47\u001B[0m [\u001B[43mtest_models\u001B[49m\u001B[43m(\u001B[49m\u001B[38;5;124;43m'\u001B[39;49m\u001B[38;5;124;43mKneser-Ney\u001B[39;49m\u001B[38;5;124;43m'\u001B[39;49m\u001B[43m,\u001B[49m\u001B[43m \u001B[49m\u001B[43ml\u001B[49m\u001B[43m,\u001B[49m\u001B[43m \u001B[49m\u001B[43mn_var\u001B[49m\u001B[43m)\u001B[49m \u001B[38;5;28;01mfor\u001B[39;00m l \u001B[38;5;129;01min\u001B[39;00m [\u001B[38;5;241m0.01\u001B[39m, \u001B[38;5;241m0.02\u001B[39m, \u001B[38;5;241m0.05\u001B[39m, \u001B[38;5;241m0.1\u001B[39m, \u001B[38;5;241m0.2\u001B[39m, \u001B[38;5;241m0.5\u001B[39m, \u001B[38;5;241m0.95\u001B[39m, \u001B[38;5;241m0.99\u001B[39m] \u001B[38;5;28;01mfor\u001B[39;00m n_var \u001B[38;5;129;01min\u001B[39;00m n_list]\n\u001B[0;32m     49\u001B[0m \u001B[38;5;28mprint\u001B[39m(\u001B[38;5;124m'\u001B[39m\u001B[38;5;124mПобедитель!\u001B[39m\u001B[38;5;124m'\u001B[39m)\n\u001B[0;32m     50\u001B[0m test_models(best_model[\u001B[38;5;124m'\u001B[39m\u001B[38;5;124mname\u001B[39m\u001B[38;5;124m'\u001B[39m], best_model[\u001B[38;5;124m'\u001B[39m\u001B[38;5;124mlambda\u001B[39m\u001B[38;5;124m'\u001B[39m], best_model[\u001B[38;5;124m'\u001B[39m\u001B[38;5;124mn\u001B[39m\u001B[38;5;124m'\u001B[39m], \u001B[38;5;28;01mTrue\u001B[39;00m)\n",
      "Input \u001B[1;32mIn [6]\u001B[0m, in \u001B[0;36mtest_models\u001B[1;34m(model_name, l, n_size, flag_test)\u001B[0m\n\u001B[0;32m     32\u001B[0m     model_kneserney \u001B[38;5;241m=\u001B[39m KneserNeyInterpolated(n_size, l)\n\u001B[0;32m     33\u001B[0m     model_kneserney\u001B[38;5;241m.\u001B[39mfit(n_grams_train, words_train)\n\u001B[1;32m---> 34\u001B[0m     perplexity \u001B[38;5;241m=\u001B[39m \u001B[43mmodel_kneserney\u001B[49m\u001B[38;5;241;43m.\u001B[39;49m\u001B[43mperplexity\u001B[49m\u001B[43m(\u001B[49m\u001B[43mn_grams_flat\u001B[49m\u001B[43m)\u001B[49m\n\u001B[0;32m     36\u001B[0m \u001B[38;5;28;01mif\u001B[39;00m \u001B[38;5;129;01mnot\u001B[39;00m(best_model[\u001B[38;5;124m'\u001B[39m\u001B[38;5;124mperplexity\u001B[39m\u001B[38;5;124m'\u001B[39m]) \u001B[38;5;129;01mor\u001B[39;00m perplexity \u001B[38;5;241m<\u001B[39m best_model[\u001B[38;5;124m'\u001B[39m\u001B[38;5;124mperplexity\u001B[39m\u001B[38;5;124m'\u001B[39m]:\n\u001B[0;32m     37\u001B[0m     best_model[\u001B[38;5;124m'\u001B[39m\u001B[38;5;124mperplexity\u001B[39m\u001B[38;5;124m'\u001B[39m] \u001B[38;5;241m=\u001B[39m perplexity\n",
      "File \u001B[1;32m~\\Обработка текстов\\lib\\site-packages\\nltk\\lm\\api.py:173\u001B[0m, in \u001B[0;36mLanguageModel.perplexity\u001B[1;34m(self, text_ngrams)\u001B[0m\n\u001B[0;32m    167\u001B[0m \u001B[38;5;28;01mdef\u001B[39;00m \u001B[38;5;21mperplexity\u001B[39m(\u001B[38;5;28mself\u001B[39m, text_ngrams):\n\u001B[0;32m    168\u001B[0m     \u001B[38;5;124;03m\"\"\"Calculates the perplexity of the given text.\u001B[39;00m\n\u001B[0;32m    169\u001B[0m \n\u001B[0;32m    170\u001B[0m \u001B[38;5;124;03m    This is simply 2 ** cross-entropy for the text, so the arguments are the same.\u001B[39;00m\n\u001B[0;32m    171\u001B[0m \n\u001B[0;32m    172\u001B[0m \u001B[38;5;124;03m    \"\"\"\u001B[39;00m\n\u001B[1;32m--> 173\u001B[0m     \u001B[38;5;28;01mreturn\u001B[39;00m \u001B[38;5;28mpow\u001B[39m(\u001B[38;5;241m2.0\u001B[39m, \u001B[38;5;28;43mself\u001B[39;49m\u001B[38;5;241;43m.\u001B[39;49m\u001B[43mentropy\u001B[49m\u001B[43m(\u001B[49m\u001B[43mtext_ngrams\u001B[49m\u001B[43m)\u001B[49m)\n",
      "File \u001B[1;32m~\\Обработка текстов\\lib\\site-packages\\nltk\\lm\\api.py:164\u001B[0m, in \u001B[0;36mLanguageModel.entropy\u001B[1;34m(self, text_ngrams)\u001B[0m\n\u001B[0;32m    156\u001B[0m \u001B[38;5;28;01mdef\u001B[39;00m \u001B[38;5;21mentropy\u001B[39m(\u001B[38;5;28mself\u001B[39m, text_ngrams):\n\u001B[0;32m    157\u001B[0m     \u001B[38;5;124;03m\"\"\"Calculate cross-entropy of model for given evaluation text.\u001B[39;00m\n\u001B[0;32m    158\u001B[0m \n\u001B[0;32m    159\u001B[0m \u001B[38;5;124;03m    :param Iterable(tuple(str)) text_ngrams: A sequence of ngram tuples.\u001B[39;00m\n\u001B[0;32m    160\u001B[0m \u001B[38;5;124;03m    :rtype: float\u001B[39;00m\n\u001B[0;32m    161\u001B[0m \n\u001B[0;32m    162\u001B[0m \u001B[38;5;124;03m    \"\"\"\u001B[39;00m\n\u001B[0;32m    163\u001B[0m     \u001B[38;5;28;01mreturn\u001B[39;00m \u001B[38;5;241m-\u001B[39m\u001B[38;5;241m1\u001B[39m \u001B[38;5;241m*\u001B[39m _mean(\n\u001B[1;32m--> 164\u001B[0m         [\u001B[38;5;28mself\u001B[39m\u001B[38;5;241m.\u001B[39mlogscore(ngram[\u001B[38;5;241m-\u001B[39m\u001B[38;5;241m1\u001B[39m], ngram[:\u001B[38;5;241m-\u001B[39m\u001B[38;5;241m1\u001B[39m]) \u001B[38;5;28;01mfor\u001B[39;00m ngram \u001B[38;5;129;01min\u001B[39;00m text_ngrams]\n\u001B[0;32m    165\u001B[0m     )\n",
      "File \u001B[1;32m~\\Обработка текстов\\lib\\site-packages\\nltk\\lm\\api.py:164\u001B[0m, in \u001B[0;36m<listcomp>\u001B[1;34m(.0)\u001B[0m\n\u001B[0;32m    156\u001B[0m \u001B[38;5;28;01mdef\u001B[39;00m \u001B[38;5;21mentropy\u001B[39m(\u001B[38;5;28mself\u001B[39m, text_ngrams):\n\u001B[0;32m    157\u001B[0m     \u001B[38;5;124;03m\"\"\"Calculate cross-entropy of model for given evaluation text.\u001B[39;00m\n\u001B[0;32m    158\u001B[0m \n\u001B[0;32m    159\u001B[0m \u001B[38;5;124;03m    :param Iterable(tuple(str)) text_ngrams: A sequence of ngram tuples.\u001B[39;00m\n\u001B[0;32m    160\u001B[0m \u001B[38;5;124;03m    :rtype: float\u001B[39;00m\n\u001B[0;32m    161\u001B[0m \n\u001B[0;32m    162\u001B[0m \u001B[38;5;124;03m    \"\"\"\u001B[39;00m\n\u001B[0;32m    163\u001B[0m     \u001B[38;5;28;01mreturn\u001B[39;00m \u001B[38;5;241m-\u001B[39m\u001B[38;5;241m1\u001B[39m \u001B[38;5;241m*\u001B[39m _mean(\n\u001B[1;32m--> 164\u001B[0m         [\u001B[38;5;28;43mself\u001B[39;49m\u001B[38;5;241;43m.\u001B[39;49m\u001B[43mlogscore\u001B[49m\u001B[43m(\u001B[49m\u001B[43mngram\u001B[49m\u001B[43m[\u001B[49m\u001B[38;5;241;43m-\u001B[39;49m\u001B[38;5;241;43m1\u001B[39;49m\u001B[43m]\u001B[49m\u001B[43m,\u001B[49m\u001B[43m \u001B[49m\u001B[43mngram\u001B[49m\u001B[43m[\u001B[49m\u001B[43m:\u001B[49m\u001B[38;5;241;43m-\u001B[39;49m\u001B[38;5;241;43m1\u001B[39;49m\u001B[43m]\u001B[49m\u001B[43m)\u001B[49m \u001B[38;5;28;01mfor\u001B[39;00m ngram \u001B[38;5;129;01min\u001B[39;00m text_ngrams]\n\u001B[0;32m    165\u001B[0m     )\n",
      "File \u001B[1;32m~\\Обработка текстов\\lib\\site-packages\\nltk\\lm\\api.py:143\u001B[0m, in \u001B[0;36mLanguageModel.logscore\u001B[1;34m(self, word, context)\u001B[0m\n\u001B[0;32m    137\u001B[0m \u001B[38;5;28;01mdef\u001B[39;00m \u001B[38;5;21mlogscore\u001B[39m(\u001B[38;5;28mself\u001B[39m, word, context\u001B[38;5;241m=\u001B[39m\u001B[38;5;28;01mNone\u001B[39;00m):\n\u001B[0;32m    138\u001B[0m     \u001B[38;5;124;03m\"\"\"Evaluate the log score of this word in this context.\u001B[39;00m\n\u001B[0;32m    139\u001B[0m \n\u001B[0;32m    140\u001B[0m \u001B[38;5;124;03m    The arguments are the same as for `score` and `unmasked_score`.\u001B[39;00m\n\u001B[0;32m    141\u001B[0m \n\u001B[0;32m    142\u001B[0m \u001B[38;5;124;03m    \"\"\"\u001B[39;00m\n\u001B[1;32m--> 143\u001B[0m     \u001B[38;5;28;01mreturn\u001B[39;00m log_base2(\u001B[38;5;28;43mself\u001B[39;49m\u001B[38;5;241;43m.\u001B[39;49m\u001B[43mscore\u001B[49m\u001B[43m(\u001B[49m\u001B[43mword\u001B[49m\u001B[43m,\u001B[49m\u001B[43m \u001B[49m\u001B[43mcontext\u001B[49m\u001B[43m)\u001B[49m)\n",
      "File \u001B[1;32m~\\Обработка текстов\\lib\\site-packages\\nltk\\lm\\api.py:117\u001B[0m, in \u001B[0;36mLanguageModel.score\u001B[1;34m(self, word, context)\u001B[0m\n\u001B[0;32m    111\u001B[0m \u001B[38;5;28;01mdef\u001B[39;00m \u001B[38;5;21mscore\u001B[39m(\u001B[38;5;28mself\u001B[39m, word, context\u001B[38;5;241m=\u001B[39m\u001B[38;5;28;01mNone\u001B[39;00m):\n\u001B[0;32m    112\u001B[0m     \u001B[38;5;124;03m\"\"\"Masks out of vocab (OOV) words and computes their model score.\u001B[39;00m\n\u001B[0;32m    113\u001B[0m \n\u001B[0;32m    114\u001B[0m \u001B[38;5;124;03m    For model-specific logic of calculating scores, see the `unmasked_score`\u001B[39;00m\n\u001B[0;32m    115\u001B[0m \u001B[38;5;124;03m    method.\u001B[39;00m\n\u001B[0;32m    116\u001B[0m \u001B[38;5;124;03m    \"\"\"\u001B[39;00m\n\u001B[1;32m--> 117\u001B[0m     \u001B[38;5;28;01mreturn\u001B[39;00m \u001B[38;5;28;43mself\u001B[39;49m\u001B[38;5;241;43m.\u001B[39;49m\u001B[43munmasked_score\u001B[49m\u001B[43m(\u001B[49m\n\u001B[0;32m    118\u001B[0m \u001B[43m        \u001B[49m\u001B[38;5;28;43mself\u001B[39;49m\u001B[38;5;241;43m.\u001B[39;49m\u001B[43mvocab\u001B[49m\u001B[38;5;241;43m.\u001B[39;49m\u001B[43mlookup\u001B[49m\u001B[43m(\u001B[49m\u001B[43mword\u001B[49m\u001B[43m)\u001B[49m\u001B[43m,\u001B[49m\u001B[43m \u001B[49m\u001B[38;5;28;43mself\u001B[39;49m\u001B[38;5;241;43m.\u001B[39;49m\u001B[43mvocab\u001B[49m\u001B[38;5;241;43m.\u001B[39;49m\u001B[43mlookup\u001B[49m\u001B[43m(\u001B[49m\u001B[43mcontext\u001B[49m\u001B[43m)\u001B[49m\u001B[43m \u001B[49m\u001B[38;5;28;43;01mif\u001B[39;49;00m\u001B[43m \u001B[49m\u001B[43mcontext\u001B[49m\u001B[43m \u001B[49m\u001B[38;5;28;43;01melse\u001B[39;49;00m\u001B[43m \u001B[49m\u001B[38;5;28;43;01mNone\u001B[39;49;00m\n\u001B[0;32m    119\u001B[0m \u001B[43m    \u001B[49m\u001B[43m)\u001B[49m\n",
      "File \u001B[1;32m~\\Обработка текстов\\lib\\site-packages\\nltk\\lm\\models.py:104\u001B[0m, in \u001B[0;36mInterpolatedLanguageModel.unmasked_score\u001B[1;34m(self, word, context)\u001B[0m\n\u001B[0;32m    101\u001B[0m \u001B[38;5;28;01mdef\u001B[39;00m \u001B[38;5;21munmasked_score\u001B[39m(\u001B[38;5;28mself\u001B[39m, word, context\u001B[38;5;241m=\u001B[39m\u001B[38;5;28;01mNone\u001B[39;00m):\n\u001B[0;32m    102\u001B[0m     \u001B[38;5;28;01mif\u001B[39;00m \u001B[38;5;129;01mnot\u001B[39;00m context:\n\u001B[0;32m    103\u001B[0m         \u001B[38;5;66;03m# The base recursion case: no context, we only have a unigram.\u001B[39;00m\n\u001B[1;32m--> 104\u001B[0m         \u001B[38;5;28;01mreturn\u001B[39;00m \u001B[38;5;28;43mself\u001B[39;49m\u001B[38;5;241;43m.\u001B[39;49m\u001B[43mestimator\u001B[49m\u001B[38;5;241;43m.\u001B[39;49m\u001B[43munigram_score\u001B[49m\u001B[43m(\u001B[49m\u001B[43mword\u001B[49m\u001B[43m)\u001B[49m\n\u001B[0;32m    105\u001B[0m     \u001B[38;5;28;01mif\u001B[39;00m \u001B[38;5;129;01mnot\u001B[39;00m \u001B[38;5;28mself\u001B[39m\u001B[38;5;241m.\u001B[39mcounts[context]:\n\u001B[0;32m    106\u001B[0m         \u001B[38;5;66;03m# It can also happen that we have no data for this context.\u001B[39;00m\n\u001B[0;32m    107\u001B[0m         \u001B[38;5;66;03m# In that case we defer to the lower-order ngram.\u001B[39;00m\n\u001B[0;32m    108\u001B[0m         \u001B[38;5;66;03m# This is the same as setting alpha to 0 and gamma to 1.\u001B[39;00m\n\u001B[0;32m    109\u001B[0m         alpha, gamma \u001B[38;5;241m=\u001B[39m \u001B[38;5;241m0\u001B[39m, \u001B[38;5;241m1\u001B[39m\n",
      "File \u001B[1;32m~\\Обработка текстов\\lib\\site-packages\\nltk\\lm\\smoothing.py:98\u001B[0m, in \u001B[0;36mKneserNey.unigram_score\u001B[1;34m(self, word)\u001B[0m\n\u001B[0;32m     96\u001B[0m \u001B[38;5;28;01mdef\u001B[39;00m \u001B[38;5;21munigram_score\u001B[39m(\u001B[38;5;28mself\u001B[39m, word):\n\u001B[0;32m     97\u001B[0m     word_continuation_count, total_count \u001B[38;5;241m=\u001B[39m \u001B[38;5;28mself\u001B[39m\u001B[38;5;241m.\u001B[39m_continuation_counts(word)\n\u001B[1;32m---> 98\u001B[0m     \u001B[38;5;28;01mreturn\u001B[39;00m \u001B[43mword_continuation_count\u001B[49m\u001B[43m \u001B[49m\u001B[38;5;241;43m/\u001B[39;49m\u001B[43m \u001B[49m\u001B[43mtotal_count\u001B[49m\n",
      "\u001B[1;31mZeroDivisionError\u001B[0m: division by zero"
     ]
    }
   ],
   "source": [
    "from nltk.lm import KneserNeyInterpolated\n",
    "from nltk.lm.preprocessing import pad_both_ends\n",
    "from nltk.util import ngrams\n",
    "import math\n",
    "import random\n",
    "\n",
    "random.shuffle(sentences)\n",
    "train_set = sentences[:math.floor(len(sentences) * 0.8)]\n",
    "validation_set = sentences[math.floor(len(sentences) * 0.8):math.floor(len(sentences) * 0.9)]\n",
    "test_set = sentences[math.floor(len(sentences) * 0.9):]\n",
    "best_model = {\n",
    "    'perplexity': None,\n",
    "    'n' : None,\n",
    "    'lambda' : None,\n",
    "    'name' : None\n",
    "}\n",
    "\n",
    "def test_models(model_name: str, l: float, n_size: int, flag_test: bool = False) -> None:\n",
    "    global perplexity\n",
    "    n_grams_train, words_train = padded_everygram_pipeline(n_size, train_set)\n",
    "    current_set = test_set if flag_test else validation_set\n",
    "    n_grams = list(ngrams(pad_both_ends(sent, n_size), n_size) for sent in current_set)\n",
    "    n_grams_flat = list(item for sublist in n_grams for item in sublist)\n",
    "    print(f'{model_name} лямбда = {l}, n = {n_size}')\n",
    "\n",
    "    if (model_name == \"Lidstone\"):\n",
    "        model_lidstone = Lidstone(l, n_size)\n",
    "        model_lidstone.fit(n_grams_train, words_train)\n",
    "        perplexity = model_lidstone.perplexity(n_grams_flat)\n",
    "\n",
    "    if (model_name == \"Kneser-Ney\"):\n",
    "        model_kneserney = KneserNeyInterpolated(n_size, l)\n",
    "        model_kneserney.fit(n_grams_train, words_train)\n",
    "        perplexity = model_kneserney.perplexity(n_grams_flat)\n",
    "\n",
    "    if not(best_model['perplexity']) or perplexity < best_model['perplexity']:\n",
    "        best_model['perplexity'] = perplexity\n",
    "        best_model['n'] = n_size\n",
    "        best_model['lambda'] = l\n",
    "        best_model['name'] = model_name\n",
    "\n",
    "    print(perplexity)\n",
    "    print('--------------------')\n",
    "\n",
    "n_list = [1, 2, 3, 4, 5]\n",
    "[test_models('Lidstone', l, n_var) for l in [0.01, 0.05, 0.1, 0.2, 0.5, 1, 2, 5] for n_var in n_list]\n",
    "[test_models('Kneser-Ney', l, n_var) for l in [0.01, 0.02, 0.05, 0.1, 0.2, 0.5, 0.95, 0.99] for n_var in n_list]\n",
    "\n",
    "print('Победитель!')\n",
    "test_models(best_model['name'], best_model['lambda'], best_model['n'], True)"
   ],
   "metadata": {
    "collapsed": false,
    "pycharm": {
     "name": "#%%\n"
    }
   }
  }
 ],
 "metadata": {
  "kernelspec": {
   "name": "pycharm-9995419",
   "language": "python",
   "display_name": "PyCharm (Обработка текстов)"
  },
  "language_info": {
   "codemirror_mode": {
    "name": "ipython",
    "version": 2
   },
   "file_extension": ".py",
   "mimetype": "text/x-python",
   "name": "python",
   "nbconvert_exporter": "python",
   "pygments_lexer": "ipython2",
   "version": "2.7.6"
  }
 },
 "nbformat": 4,
 "nbformat_minor": 0
}