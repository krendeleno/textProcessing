{
 "cells": [
  {
   "cell_type": "code",
   "execution_count": 49,
   "outputs": [],
   "source": [
    "from urllib.request import urlopen\n",
    "\n",
    "# открываю текст по url\n",
    "html = urlopen(\"http://lib.ru/ZELQZNY/zheliazny_hronomaster.txt\")"
   ],
   "metadata": {
    "collapsed": false,
    "pycharm": {
     "name": "#%%\n"
    }
   }
  },
  {
   "cell_type": "code",
   "execution_count": 50,
   "outputs": [],
   "source": [
    "import re\n",
    "text = \" \".join([re.sub('[^А-Яа-я.!?]', \" \", line.decode(html.headers.get_content_charset())) for line in html])"
   ],
   "metadata": {
    "collapsed": false,
    "pycharm": {
     "name": "#%%\n"
    }
   }
  },
  {
   "cell_type": "code",
   "execution_count": 51,
   "outputs": [],
   "source": [
    "from nltk.lm.preprocessing import padded_everygram_pipeline\n",
    "from nltk.tokenize import sent_tokenize, word_tokenize\n",
    "\n",
    "sentences = [word_tokenize(re.sub('[,:;.!?]', \" \", sent.lower())) for sent in sent_tokenize(text)]\n",
    "n = 2\n",
    "n_grams, words = padded_everygram_pipeline(n, sentences)"
   ],
   "metadata": {
    "collapsed": false,
    "pycharm": {
     "name": "#%%\n"
    }
   }
  },
  {
   "cell_type": "code",
   "execution_count": 52,
   "outputs": [
    {
     "name": "stdout",
     "output_type": "stream",
     "text": [
      "MLE - 0.017543859649122806\n"
     ]
    }
   ],
   "source": [
    "from nltk.lm import MLE\n",
    "\n",
    "model = MLE(n)\n",
    "model.fit(n_grams, words)\n",
    "print(f'MLE - {model.score(\"замечательно\", [\"просто\"])}')"
   ],
   "metadata": {
    "collapsed": false,
    "pycharm": {
     "name": "#%%\n"
    }
   }
  },
  {
   "cell_type": "code",
   "execution_count": 53,
   "outputs": [
    {
     "name": "stdout",
     "output_type": "stream",
     "text": [
      "Lidstone лямбда 0.1 - 0.0006999236446933062\n",
      "Lidstone лямбда 1 - 0.0001315529829638887\n"
     ]
    }
   ],
   "source": [
    "from nltk.lm import Lidstone\n",
    "\n",
    "def lidstones(l):\n",
    "    n_grams_lidstone, words_lidstone = padded_everygram_pipeline(n, sentences)\n",
    "    model_lidstone = Lidstone(l, n)\n",
    "    model_lidstone.fit(n_grams_lidstone, words_lidstone)\n",
    "    print(f'Lidstone лямбда {l} - {model_lidstone.score(\"замечательно\", [\"просто\"])}')\n",
    "\n",
    "lidstones(0.1)\n",
    "lidstones(1)"
   ],
   "metadata": {
    "collapsed": false,
    "pycharm": {
     "name": "#%%\n"
    }
   }
  },
  {
   "cell_type": "code",
   "execution_count": 58,
   "outputs": [
    {
     "name": "stdout",
     "output_type": "stream",
     "text": [
      "inf\n"
     ]
    }
   ],
   "source": [
    "from nltk.lm.preprocessing import pad_both_ends\n",
    "from nltk.util import ngrams, flatten\n",
    "import math\n",
    "import random\n",
    "\n",
    "random.shuffle(sentences)\n",
    "n_grams_train, words_train = padded_everygram_pipeline(n, sentences[math.floor(len(sentences) * 0.8):])\n",
    "n_grams_test, _ = padded_everygram_pipeline(n, sentences[:math.floor(len(sentences) * 0.8)])\n",
    "modelTest = MLE(n)\n",
    "modelTest.fit(n_grams_train, words_train)\n",
    "print(modelTest.perplexity(n_grams_test))"
   ],
   "metadata": {
    "collapsed": false,
    "pycharm": {
     "name": "#%%\n"
    }
   }
  }
 ],
 "metadata": {
  "kernelspec": {
   "display_name": "Python 3",
   "language": "python",
   "name": "python3"
  },
  "language_info": {
   "codemirror_mode": {
    "name": "ipython",
    "version": 2
   },
   "file_extension": ".py",
   "mimetype": "text/x-python",
   "name": "python",
   "nbconvert_exporter": "python",
   "pygments_lexer": "ipython2",
   "version": "2.7.6"
  }
 },
 "nbformat": 4,
 "nbformat_minor": 0
}